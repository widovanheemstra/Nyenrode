{
 "cells": [
  {
   "cell_type": "markdown",
   "metadata": {
    "slideshow": {
     "slide_type": "slide"
    }
   },
   "source": [
    "# Introduction"
   ]
  },
  {
   "cell_type": "markdown",
   "metadata": {},
   "source": [
    "This notebook will demonstrate how to create a basic recommender system (RS) for books. The RS will take as input a historic set of book ratings from multiple reviewers. For a given book it then suggests what other books might be interesting. We find this in some online shops as well.\n",
    "\n",
    "The notebook is build up as follows:\n",
    "1. A little background on Recommender Systems\n",
    "2. Data inspection and data preparation\n",
    "3. Building the Recommender System\n",
    "4. Scoring the Recommender System\n",
    "5. Evaluate the quality\n",
    "\n",
    "This notebook is by no means complete. The purpose is to give a quick hands-on experience with building a data product."
   ]
  },
  {
   "cell_type": "markdown",
   "metadata": {
    "slideshow": {
     "slide_type": "slide"
    }
   },
   "source": [
    "## 1. Recommender System types"
   ]
  },
  {
   "cell_type": "markdown",
   "metadata": {},
   "source": [
    "The essence of a RS is to select items an user is most likely interested in. RS exist in many different forms but we can group them into three sets:\n",
    "\n",
    "- Collaborative filtering\n",
    "- Content based filtering\n",
    "- Hybrid forms"
   ]
  },
  {
   "cell_type": "markdown",
   "metadata": {
    "slideshow": {
     "slide_type": "subslide"
    }
   },
   "source": [
    "### Collaborative Filtering"
   ]
  },
  {
   "cell_type": "markdown",
   "metadata": {},
   "source": [
    "Collaborative Filtering RS uses the 'wisdom of the crowd' principle and are found in two flavors: User Based and Item Based. The input of Collaborative Filtering RS is a user-item matrix with ratings of users for several items. Both RS recommend items by finding similarities between users or items respectively based on the ratings. The assumption is that if you like an item then you probably will like similar items too, or you will like what other people like who share a similar item preference.\n",
    "\n",
    "The key here is similarity.\n",
    "\n",
    "**Item-based** RS are easier to use because the similarities can be calculated in adcance but are of lower quality than User based models. They are mostly found in online systems shops.\n",
    "\n",
    "**User-based** RS are more accurate but do not scale well as the complexity and required computation power increases when more users are used as reference."
   ]
  },
  {
   "cell_type": "markdown",
   "metadata": {
    "slideshow": {
     "slide_type": "subslide"
    }
   },
   "source": [
    "### Content based filtering"
   ]
  },
  {
   "cell_type": "markdown",
   "metadata": {},
   "source": [
    "Content based models focus on user profiles and item descriptions, for its recommendations. These models typically try to recommend items that are similar to what a user has liked in the past."
   ]
  },
  {
   "cell_type": "markdown",
   "metadata": {
    "slideshow": {
     "slide_type": "subslide"
    }
   },
   "source": [
    "### Hybrid"
   ]
  },
  {
   "cell_type": "markdown",
   "metadata": {},
   "source": [
    "Combinations of Collaborative Filtering and Content based filtering can be used to use the best of both worlds and to improve the quality of the RS. It seems that these types of RS are most effective of the three."
   ]
  },
  {
   "cell_type": "markdown",
   "metadata": {
    "slideshow": {
     "slide_type": "slide"
    }
   },
   "source": [
    "## 2. Inspect data and prepare the data"
   ]
  },
  {
   "cell_type": "markdown",
   "metadata": {},
   "source": [
    "We are going the create a book recommender and for that we need user ratings. We will use a dataset from [Book-Crossing](http://www2.informatik.uni-freiburg.de/~cziegler/BX/) but this one is already transformed into usable user-book-rating records. So the hard work has been done. ;-)\n",
    "\n",
    "We also have to think about how we will evaluate the performance of our RS in the end and therefore how to prepare the data."
   ]
  },
  {
   "cell_type": "markdown",
   "metadata": {},
   "source": [
    "As a start we import some python libraries that we require for our prototype."
   ]
  },
  {
   "cell_type": "code",
   "execution_count": 23,
   "metadata": {
    "collapsed": true
   },
   "outputs": [],
   "source": [
    "# Import some important libraries\n",
    "import pandas as pd\n",
    "import numpy as np\n",
    "#import json\n",
    "%matplotlib inline"
   ]
  },
  {
   "cell_type": "markdown",
   "metadata": {
    "slideshow": {
     "slide_type": "subslide"
    }
   },
   "source": [
    "Lets read-in the data and show the 5 rows to see how the data looks like."
   ]
  },
  {
   "cell_type": "code",
   "execution_count": 2,
   "metadata": {
    "collapsed": false
   },
   "outputs": [
    {
     "data": {
      "text/html": [
       "<div>\n",
       "<table border=\"1\" class=\"dataframe\">\n",
       "  <thead>\n",
       "    <tr style=\"text-align: right;\">\n",
       "      <th></th>\n",
       "      <th>Reviewer</th>\n",
       "      <th>Book</th>\n",
       "      <th>Rating</th>\n",
       "    </tr>\n",
       "  </thead>\n",
       "  <tbody>\n",
       "    <tr>\n",
       "      <th>0</th>\n",
       "      <td>276726</td>\n",
       "      <td>Rites of Passage</td>\n",
       "      <td>5</td>\n",
       "    </tr>\n",
       "    <tr>\n",
       "      <th>1</th>\n",
       "      <td>276729</td>\n",
       "      <td>Help!: Level 1</td>\n",
       "      <td>3</td>\n",
       "    </tr>\n",
       "    <tr>\n",
       "      <th>2</th>\n",
       "      <td>276729</td>\n",
       "      <td>The Amsterdam Connection : Level 4 (Cambridge ...</td>\n",
       "      <td>6</td>\n",
       "    </tr>\n",
       "    <tr>\n",
       "      <th>3</th>\n",
       "      <td>276744</td>\n",
       "      <td>A Painted House</td>\n",
       "      <td>7</td>\n",
       "    </tr>\n",
       "    <tr>\n",
       "      <th>4</th>\n",
       "      <td>276747</td>\n",
       "      <td>Little Altars Everywhere</td>\n",
       "      <td>9</td>\n",
       "    </tr>\n",
       "  </tbody>\n",
       "</table>\n",
       "</div>"
      ],
      "text/plain": [
       "   Reviewer                                               Book  Rating\n",
       "0    276726                                   Rites of Passage       5\n",
       "1    276729                                     Help!: Level 1       3\n",
       "2    276729  The Amsterdam Connection : Level 4 (Cambridge ...       6\n",
       "3    276744                                    A Painted House       7\n",
       "4    276747                           Little Altars Everywhere       9"
      ]
     },
     "execution_count": 2,
     "metadata": {},
     "output_type": "execute_result"
    }
   ],
   "source": [
    "data = pd.read_csv(\"data_books.csv\", sep = \",\", header=None,\n",
    "                         names=['Reviewer', 'Book', 'Rating'])\n",
    "\n",
    "# Let's see how the dataframe looks like\n",
    "data.head()"
   ]
  },
  {
   "cell_type": "markdown",
   "metadata": {
    "slideshow": {
     "slide_type": "subslide"
    }
   },
   "source": [
    "Lets get some figures about the data:\n",
    "- What is the size of the data?\n",
    "- How many unique books and unique reviewers?\n",
    "- How sparse is the user-item matrix?"
   ]
  },
  {
   "cell_type": "code",
   "execution_count": 18,
   "metadata": {
    "collapsed": false
   },
   "outputs": [
    {
     "name": "stdout",
     "output_type": "stream",
     "text": [
      "There are 383852 rows in this dataframe and 3 features.\n"
     ]
    }
   ],
   "source": [
    "# Get the dimensions of the dataframe\n",
    "dim = data.shape\n",
    "print (\"There are {:d} rows in this dataframe and {:d} features.\".format(dim[0], dim[1]))"
   ]
  },
  {
   "cell_type": "code",
   "execution_count": 17,
   "metadata": {
    "collapsed": false
   },
   "outputs": [
    {
     "name": "stdout",
     "output_type": "stream",
     "text": [
      "135394 unique books.\n"
     ]
    }
   ],
   "source": [
    "unique_books = pd.unique(data[['Book']].values.ravel()).size\n",
    "print (\"{:d} unique books.\".format(unique_books))"
   ]
  },
  {
   "cell_type": "code",
   "execution_count": 16,
   "metadata": {
    "collapsed": false
   },
   "outputs": [
    {
     "name": "stdout",
     "output_type": "stream",
     "text": [
      "68092 unique reviewers.\n"
     ]
    }
   ],
   "source": [
    "unique_reviewers = pd.unique(data[['Reviewer']].values.ravel()).size\n",
    "print (\"{:d} unique reviewers.\".format(unique_reviewers))"
   ]
  },
  {
   "cell_type": "markdown",
   "metadata": {
    "slideshow": {
     "slide_type": "subslide"
    }
   },
   "source": [
    "To see how sparse the matrix is, we calculate the fraction of non-zero cells in the matrix."
   ]
  },
  {
   "cell_type": "code",
   "execution_count": 13,
   "metadata": {
    "collapsed": false
   },
   "outputs": [
    {
     "name": "stdout",
     "output_type": "stream",
     "text": [
      "0.0042%\n"
     ]
    }
   ],
   "source": [
    "# Total matrix would be\n",
    "total_cells = unique_reviewers * unique_books\n",
    "\n",
    "# How sparse is the matrix now\n",
    "perc = dim[0] / float(total_cells) * 100.\n",
    "print ('{:.4f}%'.format(perc))"
   ]
  },
  {
   "cell_type": "markdown",
   "metadata": {},
   "source": [
    " **Exercise**: How can we evaluate the performance of a top-N recommender system? And how should we deal with the data?"
   ]
  },
  {
   "cell_type": "markdown",
   "metadata": {},
   "source": [
    "> Take out random items (rated) per user and check if the recommender will recommend that item. --> Hit Rate\n",
    "> To be more precise we should take into account the recommended position --> Average Reciprocal Hit Range"
   ]
  },
  {
   "cell_type": "code",
   "execution_count": null,
   "metadata": {
    "collapsed": false,
    "scrolled": true
   },
   "outputs": [],
   "source": [
    "grouped = data.groupby(['Reviewer'])"
   ]
  },
  {
   "cell_type": "markdown",
   "metadata": {},
   "source": [
    "* Sort groups high to low\n",
    "* Pick top row for test\n",
    "* Pick rest for train"
   ]
  },
  {
   "cell_type": "code",
   "execution_count": null,
   "metadata": {
    "collapsed": false
   },
   "outputs": [],
   "source": [
    "train = pd.DataFrame()\n",
    "test = pd.DataFrame()\n",
    "\n",
    "# Walk over all sub groups\n",
    "for k, g in grouped:\n",
    "    # We are only interested in reviewers with more than 2 reviews\n",
    "    if len(g) > 2:\n",
    "        sort_group = grouped.get_group(8).sort_values('Rating', ascending=False)\n",
    "        test = test.append(sort_group.iloc[:1])\n",
    "        train = train.append(sort_group.iloc[1:])"
   ]
  },
  {
   "cell_type": "code",
   "execution_count": null,
   "metadata": {
    "collapsed": false
   },
   "outputs": [],
   "source": [
    "print ('Train: {:d}, Test: {:d}'.format(train.shape[0], test.shape[0]))"
   ]
  },
  {
   "cell_type": "markdown",
   "metadata": {},
   "source": [
    "## 3. Building the Recommender System"
   ]
  },
  {
   "cell_type": "markdown",
   "metadata": {
    "slideshow": {
     "slide_type": "subslide"
    }
   },
   "source": [
    "Before we build the end product, we will take small steps in order to gradually create a RS.\n",
    "\n",
    "Determine the amount of reviews per book and show the top 20."
   ]
  },
  {
   "cell_type": "code",
   "execution_count": 4,
   "metadata": {
    "collapsed": false
   },
   "outputs": [
    {
     "data": {
      "text/plain": [
       "The Lovely Bones: A Novel                                           707\n",
       "Wild Animus                                                         581\n",
       "The Da Vinci Code                                                   494\n",
       "The Secret Life of Bees                                             406\n",
       "The Nanny Diaries: A Novel                                          393\n",
       "The Red Tent (Bestselling Backlist)                                 383\n",
       "Bridget Jones's Diary                                               377\n",
       "A Painted House                                                     366\n",
       "Life of Pi                                                          336\n",
       "Harry Potter and the Chamber of Secrets (Book 2)                    326\n",
       "Divine Secrets of the Ya-Ya Sisterhood: A Novel                     323\n",
       "Angels &amp                                                         317\n",
       "Harry Potter and the Sorcerer's Stone (Harry Potter (Paperback))    315\n",
       "The Summons                                                         309\n",
       "Where the Heart Is (Oprah's Book Club (Paperback))                  295\n",
       "The Notebook                                                        293\n",
       "Girl with a Pearl Earring                                           278\n",
       "Harry Potter and the Prisoner of Azkaban (Book 3)                   277\n",
       "Snow Falling on Cedars                                              275\n",
       "The Pilot's Wife : A Novel                                          272\n",
       "Name: Book, dtype: int64"
      ]
     },
     "execution_count": 4,
     "metadata": {},
     "output_type": "execute_result"
    }
   ],
   "source": [
    "# Top 20 most reviewed books \n",
    "top_books = pd.value_counts(data.Book)\n",
    "top_books.head(20)"
   ]
  },
  {
   "cell_type": "markdown",
   "metadata": {
    "slideshow": {
     "slide_type": "subslide"
    }
   },
   "source": [
    "Lets show a graph of the top 1000 most reviewed books."
   ]
  },
  {
   "cell_type": "code",
   "execution_count": 43,
   "metadata": {
    "collapsed": false
   },
   "outputs": [
    {
     "data": {
      "text/plain": [
       "<matplotlib.axes._subplots.AxesSubplot at 0x7eff8b232290>"
      ]
     },
     "execution_count": 43,
     "metadata": {},
     "output_type": "execute_result"
    },
    {
     "data": {
      "image/png": "[encoded data removed]",
      "text/plain": [
       "<matplotlib.figure.Figure at 0x7eff8b34bbd0>"
      ]
     },
     "metadata": {},
     "output_type": "display_data"
    }
   ],
   "source": [
    "top_books['row'] = range(1, len(top_books) + 1)\n",
    "top_books[:1000].plot(x=top_books.row)"
   ]
  },
  {
   "cell_type": "markdown",
   "metadata": {
    "slideshow": {
     "slide_type": "subslide"
    }
   },
   "source": [
    "Now determine how many reviews each user has given."
   ]
  },
  {
   "cell_type": "code",
   "execution_count": 5,
   "metadata": {
    "collapsed": false
   },
   "outputs": [
    {
     "data": {
      "text/plain": [
       "11676     6943\n",
       "98391     5691\n",
       "189835    1899\n",
       "153662    1845\n",
       "23902     1180\n",
       "235105    1020\n",
       "76499     1012\n",
       "171118     962\n",
       "16795      959\n",
       "248718     941\n",
       "56399      838\n",
       "197659     781\n",
       "35859      777\n",
       "185233     698\n",
       "95359      606\n",
       "114368     603\n",
       "158295     567\n",
       "101851     563\n",
       "177458     524\n",
       "204864     504\n",
       "Name: Reviewer, dtype: int64"
      ]
     },
     "execution_count": 5,
     "metadata": {},
     "output_type": "execute_result"
    }
   ],
   "source": [
    "# Top Reviewers\n",
    "top_reviewers = pd.value_counts(data.Reviewer)\n",
    "top_reviewers.head(20)"
   ]
  },
  {
   "cell_type": "markdown",
   "metadata": {
    "slideshow": {
     "slide_type": "fragment"
    }
   },
   "source": [
    "Wow, there are people that have given almost 7000 reviews! Hmmm, something to investigate later."
   ]
  },
  {
   "cell_type": "markdown",
   "metadata": {
    "slideshow": {
     "slide_type": "slide"
    }
   },
   "source": [
    "# Calculate Similarities"
   ]
  },
  {
   "cell_type": "markdown",
   "metadata": {},
   "source": [
    "The **Manhattan-distance** which is the sum of the absolute differences along the chosen axis. e.g. when plotted on a graph its the sum of delta y and delta x.\n",
    "\n",
    "The **Euclidean-distance** which is the most intuitive one and calculated by pythagoras theorem.\n",
    "\n",
    "The **Pearson-correlation** which is a more complex one. It looks at how two variables changes together relatively to their individuals changes. Values range from -1 to 1.\n",
    "\n",
    "The **Cosine-similarity** which measures the distance by calculating the angle from the origin. Values range from -1 to 1.\n",
    "\n",
    "\n",
    "For item based RS the cosine-similarity tends to be the best performing method. For user based RS the Pearson-correlation method works best. In the following steps we will build functions for both."
   ]
  },
  {
   "cell_type": "markdown",
   "metadata": {
    "slideshow": {
     "slide_type": "subslide"
    }
   },
   "source": [
    "First we start simple by building an item based version, using Pearson-correlation.\n",
    "\n",
    "- Choose two books\n",
    "- Determine their shared reviewers\n",
    "- Get for each book a list of all reviews of their shared reviewers.\n",
    "- Calculate the Pearson-correlation over these reviews"
   ]
  },
  {
   "cell_type": "code",
   "execution_count": 13,
   "metadata": {
    "collapsed": true,
    "slideshow": {
     "slide_type": "subslide"
    }
   },
   "outputs": [],
   "source": [
    "# 2 books \n",
    "book_1, book_2 = \"Harry Potter and the Chamber of Secrets (Book 2)\", \"Harry Potter and the Sorcerer's Stone (Harry Potter (Paperback))\""
   ]
  },
  {
   "cell_type": "code",
   "execution_count": 7,
   "metadata": {
    "collapsed": false
   },
   "outputs": [
    {
     "name": "stdout",
     "output_type": "stream",
     "text": [
      "92 people have reviewed these 2 books\n"
     ]
    }
   ],
   "source": [
    "# Getting all the reviewers for these books\n",
    "book_1_reviewers = data[data.Book == book_1].Reviewer\n",
    "book_2_reviewers = data[data.Book == book_2].Reviewer\n",
    "\n",
    "# Determine any common reviewers\n",
    "common_reviewers = set(book_1_reviewers).intersection(book_2_reviewers)\n",
    "\n",
    "print \"%d people have reviewed these 2 books\" % len(common_reviewers)"
   ]
  },
  {
   "cell_type": "code",
   "execution_count": 24,
   "metadata": {
    "collapsed": false
   },
   "outputs": [],
   "source": [
    "# Checking the table with only the common reviewers and get the book name and rating\n",
    "com_rev_book1 = data[(data.Reviewer.isin(common_reviewers)) & (data.Book == book_1)]\n",
    "com_rev_book2 = data[(data.Reviewer.isin(common_reviewers)) & (data.Book == book_2)]"
   ]
  },
  {
   "cell_type": "code",
   "execution_count": 25,
   "metadata": {
    "collapsed": false
   },
   "outputs": [
    {
     "data": {
      "text/html": [
       "<div>\n",
       "<table border=\"1\" class=\"dataframe\">\n",
       "  <thead>\n",
       "    <tr style=\"text-align: right;\">\n",
       "      <th></th>\n",
       "      <th>Reviewer</th>\n",
       "      <th>Book</th>\n",
       "      <th>Rating</th>\n",
       "    </tr>\n",
       "  </thead>\n",
       "  <tbody>\n",
       "    <tr>\n",
       "      <th>14346</th>\n",
       "      <td>10560</td>\n",
       "      <td>Harry Potter and the Chamber of Secrets (Book 2)</td>\n",
       "      <td>10</td>\n",
       "    </tr>\n",
       "    <tr>\n",
       "      <th>17701</th>\n",
       "      <td>11676</td>\n",
       "      <td>Harry Potter and the Chamber of Secrets (Book 2)</td>\n",
       "      <td>10</td>\n",
       "    </tr>\n",
       "    <tr>\n",
       "      <th>17702</th>\n",
       "      <td>11676</td>\n",
       "      <td>Harry Potter and the Chamber of Secrets (Book 2)</td>\n",
       "      <td>8</td>\n",
       "    </tr>\n",
       "    <tr>\n",
       "      <th>17730</th>\n",
       "      <td>11676</td>\n",
       "      <td>Harry Potter and the Chamber of Secrets (Book 2)</td>\n",
       "      <td>10</td>\n",
       "    </tr>\n",
       "    <tr>\n",
       "      <th>35773</th>\n",
       "      <td>22625</td>\n",
       "      <td>Harry Potter and the Chamber of Secrets (Book 2)</td>\n",
       "      <td>10</td>\n",
       "    </tr>\n",
       "    <tr>\n",
       "      <th>41851</th>\n",
       "      <td>26190</td>\n",
       "      <td>Harry Potter and the Chamber of Secrets (Book 2)</td>\n",
       "      <td>9</td>\n",
       "    </tr>\n",
       "    <tr>\n",
       "      <th>48772</th>\n",
       "      <td>30735</td>\n",
       "      <td>Harry Potter and the Chamber of Secrets (Book 2)</td>\n",
       "      <td>9</td>\n",
       "    </tr>\n",
       "    <tr>\n",
       "      <th>48773</th>\n",
       "      <td>30735</td>\n",
       "      <td>Harry Potter and the Chamber of Secrets (Book 2)</td>\n",
       "      <td>9</td>\n",
       "    </tr>\n",
       "    <tr>\n",
       "      <th>50500</th>\n",
       "      <td>31393</td>\n",
       "      <td>Harry Potter and the Chamber of Secrets (Book 2)</td>\n",
       "      <td>10</td>\n",
       "    </tr>\n",
       "    <tr>\n",
       "      <th>55314</th>\n",
       "      <td>35148</td>\n",
       "      <td>Harry Potter and the Chamber of Secrets (Book 2)</td>\n",
       "      <td>10</td>\n",
       "    </tr>\n",
       "  </tbody>\n",
       "</table>\n",
       "</div>"
      ],
      "text/plain": [
       "       Reviewer                                              Book  Rating\n",
       "14346     10560  Harry Potter and the Chamber of Secrets (Book 2)      10\n",
       "17701     11676  Harry Potter and the Chamber of Secrets (Book 2)      10\n",
       "17702     11676  Harry Potter and the Chamber of Secrets (Book 2)       8\n",
       "17730     11676  Harry Potter and the Chamber of Secrets (Book 2)      10\n",
       "35773     22625  Harry Potter and the Chamber of Secrets (Book 2)      10\n",
       "41851     26190  Harry Potter and the Chamber of Secrets (Book 2)       9\n",
       "48772     30735  Harry Potter and the Chamber of Secrets (Book 2)       9\n",
       "48773     30735  Harry Potter and the Chamber of Secrets (Book 2)       9\n",
       "50500     31393  Harry Potter and the Chamber of Secrets (Book 2)      10\n",
       "55314     35148  Harry Potter and the Chamber of Secrets (Book 2)      10"
      ]
     },
     "execution_count": 25,
     "metadata": {},
     "output_type": "execute_result"
    }
   ],
   "source": [
    "common_reviewers_only_book1.head(10)"
   ]
  },
  {
   "cell_type": "code",
   "execution_count": 26,
   "metadata": {
    "collapsed": false
   },
   "outputs": [
    {
     "data": {
      "text/html": [
       "<div>\n",
       "<table border=\"1\" class=\"dataframe\">\n",
       "  <thead>\n",
       "    <tr style=\"text-align: right;\">\n",
       "      <th></th>\n",
       "      <th>Reviewer</th>\n",
       "      <th>Book</th>\n",
       "      <th>Rating</th>\n",
       "    </tr>\n",
       "  </thead>\n",
       "  <tbody>\n",
       "    <tr>\n",
       "      <th>14378</th>\n",
       "      <td>10560</td>\n",
       "      <td>Harry Potter and the Sorcerer's Stone (Harry P...</td>\n",
       "      <td>10</td>\n",
       "    </tr>\n",
       "    <tr>\n",
       "      <th>19131</th>\n",
       "      <td>11676</td>\n",
       "      <td>Harry Potter and the Sorcerer's Stone (Harry P...</td>\n",
       "      <td>10</td>\n",
       "    </tr>\n",
       "    <tr>\n",
       "      <th>35786</th>\n",
       "      <td>22625</td>\n",
       "      <td>Harry Potter and the Sorcerer's Stone (Harry P...</td>\n",
       "      <td>10</td>\n",
       "    </tr>\n",
       "    <tr>\n",
       "      <th>41852</th>\n",
       "      <td>26190</td>\n",
       "      <td>Harry Potter and the Sorcerer's Stone (Harry P...</td>\n",
       "      <td>9</td>\n",
       "    </tr>\n",
       "    <tr>\n",
       "      <th>48826</th>\n",
       "      <td>30735</td>\n",
       "      <td>Harry Potter and the Sorcerer's Stone (Harry P...</td>\n",
       "      <td>10</td>\n",
       "    </tr>\n",
       "    <tr>\n",
       "      <th>50518</th>\n",
       "      <td>31393</td>\n",
       "      <td>Harry Potter and the Sorcerer's Stone (Harry P...</td>\n",
       "      <td>10</td>\n",
       "    </tr>\n",
       "    <tr>\n",
       "      <th>55319</th>\n",
       "      <td>35148</td>\n",
       "      <td>Harry Potter and the Sorcerer's Stone (Harry P...</td>\n",
       "      <td>10</td>\n",
       "    </tr>\n",
       "    <tr>\n",
       "      <th>62253</th>\n",
       "      <td>38763</td>\n",
       "      <td>Harry Potter and the Sorcerer's Stone (Harry P...</td>\n",
       "      <td>10</td>\n",
       "    </tr>\n",
       "    <tr>\n",
       "      <th>64430</th>\n",
       "      <td>40795</td>\n",
       "      <td>Harry Potter and the Sorcerer's Stone (Harry P...</td>\n",
       "      <td>10</td>\n",
       "    </tr>\n",
       "    <tr>\n",
       "      <th>73534</th>\n",
       "      <td>48899</td>\n",
       "      <td>Harry Potter and the Sorcerer's Stone (Harry P...</td>\n",
       "      <td>8</td>\n",
       "    </tr>\n",
       "  </tbody>\n",
       "</table>\n",
       "</div>"
      ],
      "text/plain": [
       "       Reviewer                                               Book  Rating\n",
       "14378     10560  Harry Potter and the Sorcerer's Stone (Harry P...      10\n",
       "19131     11676  Harry Potter and the Sorcerer's Stone (Harry P...      10\n",
       "35786     22625  Harry Potter and the Sorcerer's Stone (Harry P...      10\n",
       "41852     26190  Harry Potter and the Sorcerer's Stone (Harry P...       9\n",
       "48826     30735  Harry Potter and the Sorcerer's Stone (Harry P...      10\n",
       "50518     31393  Harry Potter and the Sorcerer's Stone (Harry P...      10\n",
       "55319     35148  Harry Potter and the Sorcerer's Stone (Harry P...      10\n",
       "62253     38763  Harry Potter and the Sorcerer's Stone (Harry P...      10\n",
       "64430     40795  Harry Potter and the Sorcerer's Stone (Harry P...      10\n",
       "73534     48899  Harry Potter and the Sorcerer's Stone (Harry P...       8"
      ]
     },
     "execution_count": 26,
     "metadata": {},
     "output_type": "execute_result"
    }
   ],
   "source": [
    "common_reviewers_only_book2.head(10)"
   ]
  },
  {
   "cell_type": "markdown",
   "metadata": {},
   "source": [
    "We see duplicate reviewers, that must be fixed to get the Pearson-correlation calculated as the we need to vectors of the same size."
   ]
  },
  {
   "cell_type": "code",
   "execution_count": 27,
   "metadata": {
    "collapsed": true
   },
   "outputs": [],
   "source": [
    "# Fix the duplicates to prevent errors when calculating Pearson-correlation.\n",
    "com_rev_book1.sort_values('Reviewer')\n",
    "com_rev_book1 = com_rev_book1[com_rev_book1.Reviewer.duplicated()==False]\n",
    "\n",
    "com_rev_book1.sort_values('Reviewer')\n",
    "com_rev_book1 = com_rev_book1[com_rev_book1.Reviewer.duplicated()==False]"
   ]
  },
  {
   "cell_type": "code",
   "execution_count": 43,
   "metadata": {
    "collapsed": false
   },
   "outputs": [],
   "source": [
    "import numpy as np"
   ]
  },
  {
   "cell_type": "code",
   "execution_count": 19,
   "metadata": {
    "collapsed": false
   },
   "outputs": [
    {
     "ename": "NameError",
     "evalue": "name 'com_rev_book1' is not defined",
     "output_type": "error",
     "traceback": [
      "\u001b[0;31m---------------------------------------------------------------------------\u001b[0m",
      "\u001b[0;31mNameError\u001b[0m                                 Traceback (most recent call last)",
      "\u001b[0;32m<ipython-input-19-d46786d2b8fd>\u001b[0m in \u001b[0;36m<module>\u001b[0;34m()\u001b[0m\n\u001b[1;32m      1\u001b[0m \u001b[0;31m# The Pearson-correlation from the Numpy package\u001b[0m\u001b[0;34m\u001b[0m\u001b[0;34m\u001b[0m\u001b[0m\n\u001b[0;32m----> 2\u001b[0;31m \u001b[0mnp\u001b[0m\u001b[0;34m.\u001b[0m\u001b[0mcorrcoef\u001b[0m\u001b[0;34m(\u001b[0m\u001b[0mcom_rev_book1\u001b[0m\u001b[0;34m.\u001b[0m\u001b[0mRating\u001b[0m\u001b[0;34m,\u001b[0m \u001b[0mcom_rev_book2\u001b[0m\u001b[0;34m.\u001b[0m\u001b[0mRating\u001b[0m\u001b[0;34m)\u001b[0m\u001b[0;34m[\u001b[0m\u001b[0;36m1\u001b[0m\u001b[0;34m,\u001b[0m\u001b[0;36m0\u001b[0m\u001b[0;34m]\u001b[0m\u001b[0;34m\u001b[0m\u001b[0m\n\u001b[0m",
      "\u001b[0;31mNameError\u001b[0m: name 'com_rev_book1' is not defined"
     ]
    }
   ],
   "source": [
    "# The Pearson-correlation from the Numpy package\n",
    "np.corrcoef(com_rev_book1.Rating, com_rev_book2.Rating)[1,0]"
   ]
  },
  {
   "cell_type": "markdown",
   "metadata": {},
   "source": [
    "To apply this calculation to a bigger set of books we need to define two functions that will help us.\n",
    "\n",
    "1. A function that helps us to retrieve the reviews for a given book while sharing reviewers with another book\n",
    "2. A function that helps us calculating the Pearson-correlation for two sets of reviews"
   ]
  },
  {
   "cell_type": "code",
   "execution_count": 31,
   "metadata": {
    "collapsed": true
   },
   "outputs": [],
   "source": [
    "# Let's create a function that collect the reviews of our common reviewers for a specified book\n",
    "def get_book_reviews(title, common_reviewers):\n",
    "    mask = (data.Reviewer.isin(common_reviewers)) & (data.Book==title)\n",
    "    reviews = data[mask].sort_values('Reviewer')\n",
    "    reviews = reviews[reviews.Reviewer.duplicated()==False]\n",
    "    return reviews"
   ]
  },
  {
   "cell_type": "code",
   "execution_count": 44,
   "metadata": {
    "collapsed": false
   },
   "outputs": [
    {
     "data": {
      "text/plain": [
       "0.86964736645336571"
      ]
     },
     "execution_count": 44,
     "metadata": {},
     "output_type": "execute_result"
    }
   ],
   "source": [
    "def calculate_pearson_correlation(book1, book2):\n",
    "    # We start by finding the common reviewers\n",
    "    book_1_reviewers = data[data.Book == book1].Reviewer\n",
    "    book_2_reviewers = data[data.Book == book2].Reviewer\n",
    "    common_reviewers = set(book_1_reviewers).intersection(book_2_reviewers)\n",
    "\n",
    "    # Then we look for the reviews given by common reviewers\n",
    "    book_1_reviews = get_book_reviews(book1, common_reviewers)\n",
    "    book_2_reviews = get_book_reviews(book2, common_reviewers)\n",
    "    \n",
    "    # Calculate the Pearson Correlation Score\n",
    "    return np.corrcoef(book_1_reviews.Rating, book_2_reviews.Rating)[1,0]\n",
    "\n",
    "# Print the correlation score\n",
    "calculate_pearson_correlation(book_1,book_2)"
   ]
  },
  {
   "cell_type": "markdown",
   "metadata": {},
   "source": [
    "**Exercise**: build a similar function that calculates the cosine-similarity between two books. The formula for cosine-similarity is:\n",
    "\n",
    "$$\\cos (\\theta) = \\frac{v \\cdot w }{\\left \\| v \\right \\|*\\left \\| w \\right \\|}$$"
   ]
  },
  {
   "cell_type": "code",
   "execution_count": 45,
   "metadata": {
    "collapsed": false
   },
   "outputs": [
    {
     "data": {
      "text/plain": [
       "0.99763585192313153"
      ]
     },
     "execution_count": 45,
     "metadata": {},
     "output_type": "execute_result"
    }
   ],
   "source": [
    "def cosin_sim(v, w):\n",
    "    return np.dot(v, w) / np.math.sqrt(np.dot(v, v) * np.dot(w, w))\n",
    "\n",
    "def calculate_cosine_similarity(book1, book2):\n",
    "    # We start by finding the common reviewers\n",
    "    book_1_reviewers = data[data.Book == book1].Reviewer\n",
    "    book_2_reviewers = data[data.Book == book2].Reviewer\n",
    "    common_reviewers = set(book_1_reviewers).intersection(book_2_reviewers)\n",
    "\n",
    "    # Then we look for the reviews given by common reviewers\n",
    "    book_1_reviews = get_book_reviews(book1, common_reviewers)\n",
    "    book_2_reviews = get_book_reviews(book2, common_reviewers)\n",
    "    \n",
    "    # Calculate the Pearson Correlation Score\n",
    "    return cosin_sim(book_1_reviews.Rating, book_2_reviews.Rating)\n",
    "\n",
    "# Print the correlation score\n",
    "calculate_cosine_similarity(book_1,book_2)"
   ]
  },
  {
   "cell_type": "markdown",
   "metadata": {},
   "source": [
    "## Let's expand the idea to a larger set of books"
   ]
  },
  {
   "cell_type": "markdown",
   "metadata": {},
   "source": [
    "For performance reasons we will select the top most reviewed books as the calculation of similarity between all book pairs will take too much time. This is the reason why these calculations are executed seperately from the online scoring mechanism."
   ]
  },
  {
   "cell_type": "code",
   "execution_count": 46,
   "metadata": {
    "collapsed": false
   },
   "outputs": [
    {
     "data": {
      "text/html": [
       "<div>\n",
       "<table border=\"1\" class=\"dataframe\">\n",
       "  <thead>\n",
       "    <tr style=\"text-align: right;\">\n",
       "      <th></th>\n",
       "      <th>Book</th>\n",
       "      <th>count</th>\n",
       "    </tr>\n",
       "  </thead>\n",
       "  <tbody>\n",
       "    <tr>\n",
       "      <th>110079</th>\n",
       "      <td>The Lovely Bones: A Novel</td>\n",
       "      <td>707</td>\n",
       "    </tr>\n",
       "    <tr>\n",
       "      <th>132075</th>\n",
       "      <td>Wild Animus</td>\n",
       "      <td>581</td>\n",
       "    </tr>\n",
       "    <tr>\n",
       "      <th>102555</th>\n",
       "      <td>The Da Vinci Code</td>\n",
       "      <td>494</td>\n",
       "    </tr>\n",
       "    <tr>\n",
       "      <th>116044</th>\n",
       "      <td>The Secret Life of Bees</td>\n",
       "      <td>406</td>\n",
       "    </tr>\n",
       "    <tr>\n",
       "      <th>111800</th>\n",
       "      <td>The Nanny Diaries: A Novel</td>\n",
       "      <td>393</td>\n",
       "    </tr>\n",
       "    <tr>\n",
       "      <th>114808</th>\n",
       "      <td>The Red Tent (Bestselling Backlist)</td>\n",
       "      <td>383</td>\n",
       "    </tr>\n",
       "    <tr>\n",
       "      <th>15736</th>\n",
       "      <td>Bridget Jones's Diary</td>\n",
       "      <td>377</td>\n",
       "    </tr>\n",
       "    <tr>\n",
       "      <th>3064</th>\n",
       "      <td>A Painted House</td>\n",
       "      <td>366</td>\n",
       "    </tr>\n",
       "    <tr>\n",
       "      <th>60614</th>\n",
       "      <td>Life of Pi</td>\n",
       "      <td>336</td>\n",
       "    </tr>\n",
       "    <tr>\n",
       "      <th>45326</th>\n",
       "      <td>Harry Potter and the Chamber of Secrets (Book 2)</td>\n",
       "      <td>326</td>\n",
       "    </tr>\n",
       "    <tr>\n",
       "      <th>29909</th>\n",
       "      <td>Divine Secrets of the Ya-Ya Sisterhood: A Novel</td>\n",
       "      <td>323</td>\n",
       "    </tr>\n",
       "    <tr>\n",
       "      <th>8132</th>\n",
       "      <td>Angels &amp;amp</td>\n",
       "      <td>317</td>\n",
       "    </tr>\n",
       "    <tr>\n",
       "      <th>45355</th>\n",
       "      <td>Harry Potter and the Sorcerer's Stone (Harry P...</td>\n",
       "      <td>315</td>\n",
       "    </tr>\n",
       "    <tr>\n",
       "      <th>117679</th>\n",
       "      <td>The Summons</td>\n",
       "      <td>309</td>\n",
       "    </tr>\n",
       "    <tr>\n",
       "      <th>131173</th>\n",
       "      <td>Where the Heart Is (Oprah's Book Club (Paperba...</td>\n",
       "      <td>295</td>\n",
       "    </tr>\n",
       "    <tr>\n",
       "      <th>112407</th>\n",
       "      <td>The Notebook</td>\n",
       "      <td>293</td>\n",
       "    </tr>\n",
       "    <tr>\n",
       "      <th>42252</th>\n",
       "      <td>Girl with a Pearl Earring</td>\n",
       "      <td>278</td>\n",
       "    </tr>\n",
       "    <tr>\n",
       "      <th>45345</th>\n",
       "      <td>Harry Potter and the Prisoner of Azkaban (Book 3)</td>\n",
       "      <td>277</td>\n",
       "    </tr>\n",
       "    <tr>\n",
       "      <th>90767</th>\n",
       "      <td>Snow Falling on Cedars</td>\n",
       "      <td>275</td>\n",
       "    </tr>\n",
       "    <tr>\n",
       "      <th>113578</th>\n",
       "      <td>The Pilot's Wife : A Novel</td>\n",
       "      <td>272</td>\n",
       "    </tr>\n",
       "  </tbody>\n",
       "</table>\n",
       "</div>"
      ],
      "text/plain": [
       "                                                     Book  count\n",
       "110079                          The Lovely Bones: A Novel    707\n",
       "132075                                        Wild Animus    581\n",
       "102555                                  The Da Vinci Code    494\n",
       "116044                            The Secret Life of Bees    406\n",
       "111800                         The Nanny Diaries: A Novel    393\n",
       "114808                The Red Tent (Bestselling Backlist)    383\n",
       "15736                               Bridget Jones's Diary    377\n",
       "3064                                      A Painted House    366\n",
       "60614                                          Life of Pi    336\n",
       "45326    Harry Potter and the Chamber of Secrets (Book 2)    326\n",
       "29909     Divine Secrets of the Ya-Ya Sisterhood: A Novel    323\n",
       "8132                                          Angels &amp    317\n",
       "45355   Harry Potter and the Sorcerer's Stone (Harry P...    315\n",
       "117679                                        The Summons    309\n",
       "131173  Where the Heart Is (Oprah's Book Club (Paperba...    295\n",
       "112407                                       The Notebook    293\n",
       "42252                           Girl with a Pearl Earring    278\n",
       "45345   Harry Potter and the Prisoner of Azkaban (Book 3)    277\n",
       "90767                              Snow Falling on Cedars    275\n",
       "113578                         The Pilot's Wife : A Novel    272"
      ]
     },
     "execution_count": 46,
     "metadata": {},
     "output_type": "execute_result"
    }
   ],
   "source": [
    "# As I want to avoid dealing with a huge sparse matrix, I will only select the top most reviewed books for our example \n",
    "\n",
    "most_reviewed_books = pd.DataFrame({'count' : data.groupby([\"Book\"]).size()})\\\n",
    "                                    .reset_index().sort_values(['count'],ascending = False)\n",
    "\n",
    "most_reviewed_books.head(20)"
   ]
  },
  {
   "cell_type": "code",
   "execution_count": 55,
   "metadata": {
    "collapsed": false
   },
   "outputs": [
    {
     "name": "stdout",
     "output_type": "stream",
     "text": [
      "Calculating the correlations for: The Lovely Bones: A Novel\n",
      "Calculating the correlations for: Wild Animus\n",
      "Calculating the correlations for: The Da Vinci Code\n",
      "Calculating the correlations for: The Secret Life of Bees\n",
      "Calculating the correlations for: The Nanny Diaries: A Novel\n",
      "Calculating the correlations for: The Red Tent (Bestselling Backlist)\n",
      "Calculating the correlations for: Bridget Jones's Diary\n",
      "Calculating the correlations for: A Painted House\n",
      "Calculating the correlations for: Life of Pi\n",
      "Calculating the correlations for: Harry Potter and the Chamber of Secrets (Book 2)\n",
      "Calculating the correlations for: Divine Secrets of the Ya-Ya Sisterhood: A Novel\n",
      "Calculating the correlations for: Angels &amp\n",
      "Calculating the correlations for: Harry Potter and the Sorcerer's Stone (Harry Potter (Paperback))\n"
     ]
    }
   ],
   "source": [
    "# Getting the list of the most reviewed books\n",
    "\n",
    "top_books = []\n",
    "\n",
    "for i in most_reviewed_books.Book[0:13]:\n",
    "    top_books.append(i)\n",
    "\n",
    "    \n",
    "# calculate the correlation for our top books\n",
    "correlation_coefficient = []\n",
    "\n",
    "for book1 in top_books:\n",
    "    print \"Calculating the correlations for:\", book1\n",
    "    for book2 in top_books:\n",
    "        if book1 != book2:\n",
    "            row = [book1, book2] + [calculate_pearson_correlation(book1, book2)]\n",
    "            correlation_coefficient.append(row)"
   ]
  },
  {
   "cell_type": "code",
   "execution_count": 56,
   "metadata": {
    "collapsed": false
   },
   "outputs": [],
   "source": [
    "# Let's take a look at what the table of correlation looks like\n",
    "cols = [\"Book_1\", \"Book_2\", \"Correlation\"]\n",
    "correlation_coefficient = pd.DataFrame(correlation_coefficient, columns=cols).sort_values('Correlation')\n",
    "#correlation_coefficient.head(10)"
   ]
  },
  {
   "cell_type": "code",
   "execution_count": 57,
   "metadata": {
    "collapsed": true
   },
   "outputs": [],
   "source": [
    "# Let's clean up some of the titles\n",
    "correlation_coefficient= correlation_coefficient.replace([\"The Red Tent (Bestselling Backlist)\", \"Harry Potter and the Chamber of Secrets (Book 2)\",\n",
    "                                 \"Angels &amp\", \"Harry Potter and the Sorcerer's Stone (Harry Potter (Paperback))\"],\n",
    "                                [\"The Red Tent\", \"Harry Potter and the Chamber of Secrets\", \"Angels & Demons\",\n",
    "                                 \"Harry Potter and the Sorcerer's Stone\"])"
   ]
  },
  {
   "cell_type": "code",
   "execution_count": 60,
   "metadata": {
    "collapsed": false
   },
   "outputs": [],
   "source": [
    "# Also update the top book list\n",
    "top_books[5] = \"The Red Tent\"\n",
    "top_books[9] = \"Harry Potter and the Chamber of Secrets\"\n",
    "top_books[11] = \"Angels & Demons\"\n",
    "top_books[12] = \"Harry Potter and the Sorcerer's Stone\""
   ]
  },
  {
   "cell_type": "code",
   "execution_count": 61,
   "metadata": {
    "collapsed": true
   },
   "outputs": [],
   "source": [
    "# Helper function to get the correlation between two books\n",
    "def calc_correlation(corr, book1, book2):\n",
    "    mask = (corr.Book_1==book1) & (corr.Book_2==book2)\n",
    "    row = corr[mask]\n",
    "    corr = row\n",
    "    return corr.sum(axis=1).tolist()[0]"
   ]
  },
  {
   "cell_type": "code",
   "execution_count": 62,
   "metadata": {
    "collapsed": false
   },
   "outputs": [
    {
     "data": {
      "text/plain": [
       "0.35326135281447019"
      ]
     },
     "execution_count": 62,
     "metadata": {},
     "output_type": "execute_result"
    }
   ],
   "source": [
    "calc_correlation(correlation_coefficient,\"Harry Potter and the Sorcerer's Stone\", \"The Red Tent\")"
   ]
  },
  {
   "cell_type": "markdown",
   "metadata": {},
   "source": [
    "### Finding similar books to 'Harry Potter and the Sorcerer's Stone'"
   ]
  },
  {
   "cell_type": "code",
   "execution_count": 63,
   "metadata": {
    "collapsed": false,
    "scrolled": false
   },
   "outputs": [
    {
     "data": {
      "text/plain": [
       "[(\"Harry Potter and the Sorcerer's Stone\",\n",
       "  'Harry Potter and the Chamber of Secrets',\n",
       "  0.86964736645336571),\n",
       " (\"Harry Potter and the Sorcerer's Stone\",\n",
       "  'The Nanny Diaries: A Novel',\n",
       "  0.53751347372691571),\n",
       " (\"Harry Potter and the Sorcerer's Stone\", 'Wild Animus', 0.48412291827592707),\n",
       " (\"Harry Potter and the Sorcerer's Stone\",\n",
       "  'Angels & Demons',\n",
       "  0.45363235436327742),\n",
       " (\"Harry Potter and the Sorcerer's Stone\",\n",
       "  'The Red Tent',\n",
       "  0.35326135281447019),\n",
       " (\"Harry Potter and the Sorcerer's Stone\",\n",
       "  'Divine Secrets of the Ya-Ya Sisterhood: A Novel',\n",
       "  0.28960942612539076),\n",
       " (\"Harry Potter and the Sorcerer's Stone\",\n",
       "  'A Painted House',\n",
       "  0.26363525200414828),\n",
       " (\"Harry Potter and the Sorcerer's Stone\",\n",
       "  'The Lovely Bones: A Novel',\n",
       "  0.18557232038403579),\n",
       " (\"Harry Potter and the Sorcerer's Stone\",\n",
       "  \"Bridget Jones's Diary\",\n",
       "  0.026519482723970682),\n",
       " (\"Harry Potter and the Sorcerer's Stone\", 'The Secret Life of Bees', 0.0),\n",
       " (\"Harry Potter and the Sorcerer's Stone\",\n",
       "  'The Da Vinci Code',\n",
       "  -0.10387310073624213),\n",
       " (\"Harry Potter and the Sorcerer's Stone\", 'Life of Pi', -0.2909286827258562)]"
      ]
     },
     "execution_count": 63,
     "metadata": {},
     "output_type": "execute_result"
    }
   ],
   "source": [
    "# Get the sorted correlations for Harry Potter\n",
    "my_book = \"Harry Potter and the Sorcerer's Stone\"\n",
    "\n",
    "results = []\n",
    "for b in top_books:\n",
    "    if my_book!=b:\n",
    "        results.append((my_book, b, calc_correlation(correlation_coefficient, my_book, b)))\n",
    "sorted(results, key=lambda x: x[2], reverse=True)"
   ]
  },
  {
   "cell_type": "markdown",
   "metadata": {},
   "source": [
    "**Exercise**: create a function *predict* which takes a book as input and outputs a list with other books, sorted from most correlated to lowest."
   ]
  },
  {
   "cell_type": "code",
   "execution_count": null,
   "metadata": {
    "collapsed": true
   },
   "outputs": [],
   "source": [
    "def predict(my_book):\n",
    "    results = []\n",
    "    for other_book in top_books:\n",
    "        if my_book != other_book:\n",
    "            correlation = calc_correlation(correlation_coefficient, my_book, other_book)\n",
    "            results.append((my_book, other_book, correlation)) \n",
    "    return sorted(results, key=lambda x: x[2], reverse=True)"
   ]
  },
  {
   "cell_type": "markdown",
   "metadata": {},
   "source": [
    "Now we can test for a given book, what other suggestions we should consider."
   ]
  },
  {
   "cell_type": "code",
   "execution_count": null,
   "metadata": {
    "collapsed": false
   },
   "outputs": [],
   "source": [
    "predict(\"Harry Potter and the Sorcerer's Stone\")"
   ]
  },
  {
   "cell_type": "markdown",
   "metadata": {},
   "source": [
    "**Exercise**: What is needed to use the cosine-similarity function we build before, for this recommender?"
   ]
  },
  {
   "cell_type": "markdown",
   "metadata": {},
   "source": [
    "## 4. Score"
   ]
  },
  {
   "cell_type": "markdown",
   "metadata": {},
   "source": [
    "## 5. Evaluate"
   ]
  },
  {
   "cell_type": "markdown",
   "metadata": {},
   "source": [
    "**Exercise**: Based on the above, create an User-based recommender system?"
   ]
  },
  {
   "cell_type": "markdown",
   "metadata": {},
   "source": [
    "**Exercise**: How to improve the Item-based recommender system?"
   ]
  },
  {
   "cell_type": "markdown",
   "metadata": {
    "collapsed": true
   },
   "source": [
    "## References"
   ]
  },
  {
   "cell_type": "markdown",
   "metadata": {},
   "source": [
    "- Part of the code is from: http://www.mickaellegal.com/blog/2014/1/30/how-to-build-a-recommender\n",
    "- CF technique backgrounds are explained at http://www.hindawi.com/journals/aai/2009/421425/\n"
   ]
  }
 ],
 "metadata": {
  "kernelspec": {
   "display_name": "Python 2",
   "language": "python",
   "name": "python2"
  },
  "language_info": {
   "codemirror_mode": {
    "name": "ipython",
    "version": 2
   },
   "file_extension": ".py",
   "mimetype": "text/x-python",
   "name": "python",
   "nbconvert_exporter": "python",
   "pygments_lexer": "ipython2",
   "version": "2.7.9"
  }
 },
 "nbformat": 4,
 "nbformat_minor": 0
}
