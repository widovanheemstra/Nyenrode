{
 "cells": [
  {
   "cell_type": "markdown",
   "metadata": {},
   "source": [
    "# Collaborative Filtering with spark fkljhjsdfls"
   ]
  },
  {
   "cell_type": "code",
   "execution_count": 1,
   "metadata": {},
   "outputs": [],
   "source": [
    "from pyspark.ml.evaluation import RegressionEvaluator\n",
    "from pyspark.mllib.evaluation import RankingMetrics, RegressionMetrics\n",
    "from pyspark.mllib.recommendation import ALS, Rating\n",
    "from pyspark.sql import Row\n",
    "from pyspark.sql import functions as F\n",
    "from pyspark.sql.types import *\n",
    "from pyspark.sql.window import Window\n",
    "\n",
    "from datetime import datetime\n",
    "import itertools\n",
    "\n",
    "import pandas as pd\n",
    "import matplotlib.pyplot as plt"
   ]
  },
  {
   "cell_type": "markdown",
   "metadata": {},
   "source": [
    "**Spark**\n",
    "- Transformations vs Actions\n",
    "- Distributed\n",
    "- Huge datasets"
   ]
  },
  {
   "cell_type": "markdown",
   "metadata": {},
   "source": [
    "## 0. Loading data: movielens data\n",
    "***"
   ]
  },
  {
   "cell_type": "code",
   "execution_count": 2,
   "metadata": {},
   "outputs": [],
   "source": [
    "ratings = spark.read.csv(\"../data/movielens/ratings.csv\", header=True).cache()"
   ]
  },
  {
   "cell_type": "markdown",
   "metadata": {},
   "source": [
    "## 1. EDA\n",
    "***"
   ]
  },
  {
   "cell_type": "code",
   "execution_count": 3,
   "metadata": {},
   "outputs": [
    {
     "data": {
      "text/plain": [
       "[Row(userId='1', movieId='1', rating='4.0', timestamp='964982703'),\n",
       " Row(userId='1', movieId='3', rating='4.0', timestamp='964981247'),\n",
       " Row(userId='1', movieId='6', rating='4.0', timestamp='964982224'),\n",
       " Row(userId='1', movieId='47', rating='5.0', timestamp='964983815'),\n",
       " Row(userId='1', movieId='50', rating='5.0', timestamp='964982931')]"
      ]
     },
     "execution_count": 3,
     "metadata": {},
     "output_type": "execute_result"
    }
   ],
   "source": [
    "ratings.head(5)"
   ]
  },
  {
   "cell_type": "code",
   "execution_count": 4,
   "metadata": {},
   "outputs": [
    {
     "name": "stdout",
     "output_type": "stream",
     "text": [
      "root\n",
      " |-- userId: string (nullable = true)\n",
      " |-- movieId: string (nullable = true)\n",
      " |-- rating: string (nullable = true)\n",
      " |-- timestamp: string (nullable = true)\n",
      "\n"
     ]
    }
   ],
   "source": [
    "ratings.printSchema()"
   ]
  },
  {
   "cell_type": "code",
   "execution_count": 5,
   "metadata": {
    "scrolled": true
   },
   "outputs": [
    {
     "name": "stdout",
     "output_type": "stream",
     "text": [
      "Total amount of ratings: 100836\n"
     ]
    }
   ],
   "source": [
    "print(\"Total amount of ratings: {}\".format(ratings.count()))"
   ]
  },
  {
   "cell_type": "code",
   "execution_count": 6,
   "metadata": {},
   "outputs": [
    {
     "name": "stdout",
     "output_type": "stream",
     "text": [
      "+-------+------------------+----------------+------------------+--------------------+\n",
      "|summary|            userId|         movieId|            rating|           timestamp|\n",
      "+-------+------------------+----------------+------------------+--------------------+\n",
      "|  count|            100836|          100836|            100836|              100836|\n",
      "|   mean|326.12756356856676|19435.2957177992| 3.501556983616962|1.2059460873684695E9|\n",
      "| stddev| 182.6184914635004|35530.9871987003|1.0425292390606342|2.1626103599513078E8|\n",
      "|    min|                 1|               1|               0.5|          1000129365|\n",
      "|    25%|             177.0|          1199.0|               3.0|       1.018535155E9|\n",
      "|    50%|             325.0|          2991.0|               3.5|       1.186086516E9|\n",
      "|    75%|             477.0|          8092.0|               4.0|       1.435993828E9|\n",
      "|    max|                99|           99992|               5.0|           999873731|\n",
      "+-------+------------------+----------------+------------------+--------------------+\n",
      "\n"
     ]
    }
   ],
   "source": [
    "ratings.summary().show()"
   ]
  },
  {
   "cell_type": "code",
   "execution_count": 7,
   "metadata": {
    "scrolled": true
   },
   "outputs": [
    {
     "name": "stdout",
     "output_type": "stream",
     "text": [
      "Amount of unique users: 610\n"
     ]
    }
   ],
   "source": [
    "print(\"Amount of unique users: {}\".format(ratings.select('userId').distinct().count()))"
   ]
  },
  {
   "cell_type": "code",
   "execution_count": 8,
   "metadata": {},
   "outputs": [
    {
     "name": "stdout",
     "output_type": "stream",
     "text": [
      "Amount of unique movies: 9724\n"
     ]
    }
   ],
   "source": [
    "print(\"Amount of unique movies: {}\".format(ratings.select('movieId').distinct().count()))"
   ]
  },
  {
   "cell_type": "code",
   "execution_count": 9,
   "metadata": {},
   "outputs": [
    {
     "name": "stdout",
     "output_type": "stream",
     "text": [
      "Sparsity: 0.01700\n"
     ]
    }
   ],
   "source": [
    "print(\"Sparsity: {:0.5f}\".format(ratings.count() /\n",
    "                                 (ratings.select('userId').distinct().count() *\n",
    "                                  ratings.select('movieId').distinct().count())))"
   ]
  },
  {
   "cell_type": "code",
   "execution_count": 10,
   "metadata": {},
   "outputs": [
    {
     "name": "stdout",
     "output_type": "stream",
     "text": [
      "+------+-------+------+---------+-------------------+\n",
      "|userId|movieId|rating|timestamp|ts                 |\n",
      "+------+-------+------+---------+-------------------+\n",
      "|1     |1      |4.0   |964982703|2000-07-30 20:45:03|\n",
      "|1     |3      |4.0   |964981247|2000-07-30 20:20:47|\n",
      "|1     |6      |4.0   |964982224|2000-07-30 20:37:04|\n",
      "|1     |47     |5.0   |964983815|2000-07-30 21:03:35|\n",
      "|1     |50     |5.0   |964982931|2000-07-30 20:48:51|\n",
      "|1     |70     |3.0   |964982400|2000-07-30 20:40:00|\n",
      "|1     |101    |5.0   |964980868|2000-07-30 20:14:28|\n",
      "|1     |110    |4.0   |964982176|2000-07-30 20:36:16|\n",
      "|1     |151    |5.0   |964984041|2000-07-30 21:07:21|\n",
      "|1     |157    |5.0   |964984100|2000-07-30 21:08:20|\n",
      "+------+-------+------+---------+-------------------+\n",
      "only showing top 10 rows\n",
      "\n"
     ]
    }
   ],
   "source": [
    "# Convert timestamp to a datetime value\n",
    "ratings = ratings.withColumn('ts', F.from_unixtime('timestamp'))\n",
    "ratings.show(10, truncate=False)"
   ]
  },
  {
   "cell_type": "code",
   "execution_count": 11,
   "metadata": {},
   "outputs": [
    {
     "name": "stdout",
     "output_type": "stream",
     "text": [
      "Min datum: 1996-03-29 19:36:55\n",
      "Max datum 2018-09-24 16:27:30\n",
      "Verschil in jaren: 22.5\n"
     ]
    }
   ],
   "source": [
    "max_ts = datetime.strptime(ratings.agg({\"ts\":\"max\"}).collect()[0][0],'%Y-%m-%d %H:%M:%S')\n",
    "min_ts = datetime.strptime(ratings.agg({\"ts\":\"min\"}).collect()[0][0],'%Y-%m-%d %H:%M:%S')\n",
    "print(\"Min datum: {}\\nMax datum {}\\nVerschil in jaren: {:0.1f}\".format(min_ts, max_ts, (max_ts - min_ts).days / 365))"
   ]
  },
  {
   "cell_type": "markdown",
   "metadata": {},
   "source": [
    "### 1.1 Movie perspective"
   ]
  },
  {
   "cell_type": "code",
   "execution_count": 12,
   "metadata": {},
   "outputs": [
    {
     "name": "stdout",
     "output_type": "stream",
     "text": [
      "+-------+-----+\n",
      "|movieId|count|\n",
      "+-------+-----+\n",
      "|356    |329  |\n",
      "|318    |317  |\n",
      "|296    |307  |\n",
      "|593    |279  |\n",
      "|2571   |278  |\n",
      "|260    |251  |\n",
      "|480    |238  |\n",
      "|110    |237  |\n",
      "|589    |224  |\n",
      "|527    |220  |\n",
      "+-------+-----+\n",
      "only showing top 10 rows\n",
      "\n"
     ]
    }
   ],
   "source": [
    "# Show top 20 of most rated movies\n",
    "rating_cnt = ratings.groupby('movieId').count()\n",
    "rating_cnt.orderBy('count', ascending=False).show(10, truncate=False)"
   ]
  },
  {
   "cell_type": "code",
   "execution_count": 13,
   "metadata": {},
   "outputs": [
    {
     "data": {
      "text/plain": [
       "<matplotlib.axes._subplots.AxesSubplot at 0x10911fdd8>"
      ]
     },
     "execution_count": 13,
     "metadata": {},
     "output_type": "execute_result"
    },
    {
     "data": {
      "image/png": "[encoded data removed]",
      "text/plain": [
       "<Figure size 432x288 with 1 Axes>"
      ]
     },
     "metadata": {},
     "output_type": "display_data"
    }
   ],
   "source": [
    "# Plot the counts per movie\n",
    "rating_cnt.orderBy('count', ascending=False).toPandas().plot()"
   ]
  },
  {
   "cell_type": "code",
   "execution_count": 14,
   "metadata": {},
   "outputs": [
    {
     "name": "stdout",
     "output_type": "stream",
     "text": [
      "+-------+---+---+---+---+---+---+---+---+---+---+\n",
      "|movieId|0.5|1.0|1.5|2.0|2.5|3.0|3.5|4.0|4.5|5.0|\n",
      "+-------+---+---+---+---+---+---+---+---+---+---+\n",
      "|2088   |0  |3  |1  |3  |2  |6  |1  |2  |0  |0  |\n",
      "|112911 |1  |0  |1  |1  |0  |0  |0  |1  |0  |0  |\n",
      "|3606   |0  |0  |0  |0  |0  |1  |2  |0  |0  |1  |\n",
      "|4821   |1  |0  |0  |0  |1  |0  |1  |1  |0  |1  |\n",
      "|5325   |0  |0  |0  |0  |0  |1  |2  |3  |1  |0  |\n",
      "|102684 |0  |0  |0  |0  |0  |0  |1  |1  |0  |0  |\n",
      "|3210   |1  |0  |1  |2  |1  |10 |6  |17 |3  |1  |\n",
      "|691    |0  |0  |0  |0  |0  |2  |0  |1  |0  |0  |\n",
      "|100553 |0  |0  |0  |0  |0  |0  |0  |0  |2  |0  |\n",
      "|2294   |0  |0  |1  |4  |4  |16 |8  |9  |1  |2  |\n",
      "+-------+---+---+---+---+---+---+---+---+---+---+\n",
      "only showing top 10 rows\n",
      "\n"
     ]
    }
   ],
   "source": [
    "# Get counts per rating for each movie\n",
    "rating_cnt_2 = ratings.groupby('movieId').pivot('rating').agg({\"rating\":\"count\"}).na.fill(0)\n",
    "rating_cnt_2.show(10, truncate=False)"
   ]
  },
  {
   "cell_type": "code",
   "execution_count": 15,
   "metadata": {},
   "outputs": [
    {
     "name": "stdout",
     "output_type": "stream",
     "text": [
      "+----+----+----+----+----+-----+-----+-----+----+-----+\n",
      "| 0.5| 1.0| 1.5| 2.0| 2.5|  3.0|  3.5|  4.0| 4.5|  5.0|\n",
      "+----+----+----+----+----+-----+-----+-----+----+-----+\n",
      "|1370|2811|1791|7551|5550|20047|13136|26818|8551|13211|\n",
      "+----+----+----+----+----+-----+-----+-----+----+-----+\n",
      "\n"
     ]
    }
   ],
   "source": [
    "# Get total rating count per category\n",
    "\n",
    "agg_functions = [\n",
    "    F.sum(F.col('`0.5`')).alias('0.5'),\n",
    "    F.sum('`1.0`').alias('1.0'),\n",
    "    F.sum('`1.5`').alias('1.5'),\n",
    "    F.sum('`2.0`').alias('2.0'),\n",
    "    F.sum('`2.5`').alias('2.5'),\n",
    "    F.sum('`3.0`').alias('3.0'),\n",
    "    F.sum('`3.5`').alias('3.5'),\n",
    "    F.sum('`4.0`').alias('4.0'),\n",
    "    F.sum('`4.5`').alias('4.5'),\n",
    "    F.sum('`5.0`').alias('5.0')\n",
    "]\n",
    "\n",
    "agg_ratings = rating_cnt_2.agg(*agg_functions)\n",
    "agg_ratings.show()"
   ]
  },
  {
   "cell_type": "code",
   "execution_count": 16,
   "metadata": {},
   "outputs": [
    {
     "data": {
      "text/html": [
       "<div>\n",
       "<style scoped>\n",
       "    .dataframe tbody tr th:only-of-type {\n",
       "        vertical-align: middle;\n",
       "    }\n",
       "\n",
       "    .dataframe tbody tr th {\n",
       "        vertical-align: top;\n",
       "    }\n",
       "\n",
       "    .dataframe thead th {\n",
       "        text-align: right;\n",
       "    }\n",
       "</style>\n",
       "<table border=\"1\" class=\"dataframe\">\n",
       "  <thead>\n",
       "    <tr style=\"text-align: right;\">\n",
       "      <th></th>\n",
       "      <th>0.5</th>\n",
       "      <th>1.0</th>\n",
       "      <th>1.5</th>\n",
       "      <th>2.0</th>\n",
       "      <th>2.5</th>\n",
       "      <th>3.0</th>\n",
       "      <th>3.5</th>\n",
       "      <th>4.0</th>\n",
       "      <th>4.5</th>\n",
       "      <th>5.0</th>\n",
       "    </tr>\n",
       "  </thead>\n",
       "  <tbody>\n",
       "    <tr>\n",
       "      <th>0</th>\n",
       "      <td>1370</td>\n",
       "      <td>2811</td>\n",
       "      <td>1791</td>\n",
       "      <td>7551</td>\n",
       "      <td>5550</td>\n",
       "      <td>20047</td>\n",
       "      <td>13136</td>\n",
       "      <td>26818</td>\n",
       "      <td>8551</td>\n",
       "      <td>13211</td>\n",
       "    </tr>\n",
       "  </tbody>\n",
       "</table>\n",
       "</div>"
      ],
      "text/plain": [
       "    0.5   1.0   1.5   2.0   2.5    3.0    3.5    4.0   4.5    5.0\n",
       "0  1370  2811  1791  7551  5550  20047  13136  26818  8551  13211"
      ]
     },
     "execution_count": 16,
     "metadata": {},
     "output_type": "execute_result"
    }
   ],
   "source": [
    "agg_ratings.toPandas()"
   ]
  },
  {
   "cell_type": "code",
   "execution_count": 17,
   "metadata": {},
   "outputs": [
    {
     "data": {
      "text/plain": [
       "<matplotlib.axes._subplots.AxesSubplot at 0x108f4a2b0>"
      ]
     },
     "execution_count": 17,
     "metadata": {},
     "output_type": "execute_result"
    },
    {
     "data": {
      "image/png": "[encoded data removed]",
      "text/plain": [
       "<Figure size 432x288 with 1 Axes>"
      ]
     },
     "metadata": {},
     "output_type": "display_data"
    }
   ],
   "source": [
    "# Pandas is required to get nice graphs\n",
    "agg_ratings.toPandas().T.plot.bar()"
   ]
  },
  {
   "cell_type": "markdown",
   "metadata": {},
   "source": [
    "### 1.2 User perspective"
   ]
  },
  {
   "cell_type": "code",
   "execution_count": 18,
   "metadata": {
    "scrolled": false
   },
   "outputs": [
    {
     "name": "stdout",
     "output_type": "stream",
     "text": [
      "+------+-----+\n",
      "|userId|count|\n",
      "+------+-----+\n",
      "|414   |2698 |\n",
      "|599   |2478 |\n",
      "|474   |2108 |\n",
      "|448   |1864 |\n",
      "|274   |1346 |\n",
      "|610   |1302 |\n",
      "|68    |1260 |\n",
      "|380   |1218 |\n",
      "|606   |1115 |\n",
      "|288   |1055 |\n",
      "+------+-----+\n",
      "only showing top 10 rows\n",
      "\n"
     ]
    }
   ],
   "source": [
    "# Count amount of ratings given per user\n",
    "user_rating_cnt = ratings.groupby('userId').count()\n",
    "user_rating_cnt.orderBy('count', ascending=False).show(10, truncate=False)"
   ]
  },
  {
   "cell_type": "code",
   "execution_count": 19,
   "metadata": {},
   "outputs": [
    {
     "data": {
      "text/plain": [
       "<matplotlib.axes._subplots.AxesSubplot at 0x108ef9828>"
      ]
     },
     "execution_count": 19,
     "metadata": {},
     "output_type": "execute_result"
    },
    {
     "data": {
      "image/png": "[encoded data removed]",
      "text/plain": [
       "<Figure size 432x288 with 1 Axes>"
      ]
     },
     "metadata": {},
     "output_type": "display_data"
    }
   ],
   "source": [
    "# Order and plot\n",
    "user_rating_cnt.orderBy('count', ascending=False).toPandas().plot()"
   ]
  },
  {
   "cell_type": "markdown",
   "metadata": {},
   "source": [
    "## 2. Data prep\n",
    "***"
   ]
  },
  {
   "cell_type": "markdown",
   "metadata": {},
   "source": [
    "The algorithm that we will choose determines how the input data must look like. Having the model or models clear is important in order to prepare the data.\n",
    "\n",
    "We choose to use the Alternating Least Squares (ALS), which comes out of the box with spark. This is a Matrix Factorization (MF) algorithm and belongs to the Model Based Collaborative Filtering recommenders.\n",
    "\n",
    "### Matrix Factorization\n",
    "Matrix Factorization is mostly used for dimensionality reduction e.g. Principle Component Analysis (PCA) or Singular Value Decomposition (SVD). In principle MF tries to find the hidden features that relate, in this case, the users and items in a smaller matrix.\n",
    "\n",
    "The image below shows  the original rating matrix R, user-feature matrix U and the feature-item matrix V. \n",
    "\n",
    "![Matrix Factorization](images/mf2.png)"
   ]
  },
  {
   "cell_type": "markdown",
   "metadata": {},
   "source": [
    "### Model intuition\n",
    "\n",
    "The ALS model is iterative by nature. In order to find the right U and V, these matrices are randomly initiated and then by using least squares the model optimizes U while fixing V and vice versa. Each time we optimise we get closer to the real rating matrix."
   ]
  },
  {
   "cell_type": "markdown",
   "metadata": {},
   "source": [
    "### Data structure\n",
    "The ALS model requires the users and items represented as integers (identifiers). The rating column is of type float (decimal numbers) The date column is not necessary.\n",
    "\n",
    "We can change the ratings given into relevance scores. How this is done is highly subjective. We choose not to recommend ratings lower than 3. So we need to map the ratings to a new relevance score.\n",
    "- 5 -> 2.5\n",
    "- 4 -> 1.5\n",
    "- 3 -> 0.5\n",
    "- 2 -> -0.5\n",
    "- 1 -> -1.5"
   ]
  },
  {
   "cell_type": "code",
   "execution_count": 20,
   "metadata": {},
   "outputs": [],
   "source": [
    "# Create a new rating set with relevance scores.\n",
    "rating_prep = ratings.rdd.map(lambda r: Rating(int(r[0]), int(r[1]), float(r[2])-2.5))"
   ]
  },
  {
   "cell_type": "code",
   "execution_count": 22,
   "metadata": {},
   "outputs": [
    {
     "data": {
      "text/plain": [
       "[Rating(user=1, product=1, rating=1.5),\n",
       " Rating(user=1, product=3, rating=1.5),\n",
       " Rating(user=1, product=6, rating=1.5),\n",
       " Rating(user=1, product=47, rating=2.5),\n",
       " Rating(user=1, product=50, rating=2.5)]"
      ]
     },
     "execution_count": 22,
     "metadata": {},
     "output_type": "execute_result"
    }
   ],
   "source": [
    "rating_prep.take(5)"
   ]
  },
  {
   "cell_type": "markdown",
   "metadata": {},
   "source": [
    "## Model Training\n",
    "***"
   ]
  },
  {
   "cell_type": "code",
   "execution_count": 23,
   "metadata": {},
   "outputs": [],
   "source": [
    "# Train the recommendation model using the user-product relevance scores\n",
    "\n",
    "# parameters\n",
    "latent_factors = 10\n",
    "iterations = 10\n",
    "regularization = 0.01\n",
    "seed = 123\n",
    "\n",
    "model_1 = ALS.train(rating_prep,\n",
    "                  rank=latent_factors,\n",
    "                  iterations=iterations,\n",
    "                  lambda_=regularization,\n",
    "                  seed=seed\n",
    "                 )"
   ]
  },
  {
   "cell_type": "markdown",
   "metadata": {},
   "source": [
    "## Evaluation\n",
    "***"
   ]
  },
  {
   "cell_type": "code",
   "execution_count": 24,
   "metadata": {},
   "outputs": [],
   "source": [
    "testData = rating_prep.map(lambda p: (p.user, p.product))"
   ]
  },
  {
   "cell_type": "code",
   "execution_count": 25,
   "metadata": {},
   "outputs": [],
   "source": [
    "# Generate predictions for all user-movie combination\n",
    "predictions = model_1.predictAll(testData).map(lambda r: ((r.user, r.product), r.rating))"
   ]
  },
  {
   "cell_type": "code",
   "execution_count": 29,
   "metadata": {},
   "outputs": [
    {
     "data": {
      "text/plain": [
       "[((232, 45208), -0.024741128067109597),\n",
       " ((382, 45208), -0.4870130808552082),\n",
       " ((599, 45208), -0.9769500437115298),\n",
       " ((474, 6400), 1.0049102856497631),\n",
       " ((368, 3272), 0.248730390569585)]"
      ]
     },
     "execution_count": 29,
     "metadata": {},
     "output_type": "execute_result"
    }
   ],
   "source": [
    "predictions.take(5)"
   ]
  },
  {
   "cell_type": "code",
   "execution_count": null,
   "metadata": {},
   "outputs": [],
   "source": [
    "predictions.take(10)"
   ]
  },
  {
   "cell_type": "code",
   "execution_count": 30,
   "metadata": {},
   "outputs": [],
   "source": [
    "ratingsTuple = rating_prep.map(lambda r: ((r.user, r.product), r.rating))"
   ]
  },
  {
   "cell_type": "code",
   "execution_count": 31,
   "metadata": {},
   "outputs": [
    {
     "data": {
      "text/plain": [
       "[((1, 1), 1.5),\n",
       " ((1, 3), 1.5),\n",
       " ((1, 6), 1.5),\n",
       " ((1, 47), 2.5),\n",
       " ((1, 50), 2.5),\n",
       " ((1, 70), 0.5),\n",
       " ((1, 101), 2.5),\n",
       " ((1, 110), 1.5),\n",
       " ((1, 151), 2.5),\n",
       " ((1, 157), 2.5)]"
      ]
     },
     "execution_count": 31,
     "metadata": {},
     "output_type": "execute_result"
    }
   ],
   "source": [
    "ratingsTuple.take(10)"
   ]
  },
  {
   "cell_type": "code",
   "execution_count": 32,
   "metadata": {},
   "outputs": [],
   "source": [
    "scoreAndLabels = predictions.join(ratingsTuple).map(lambda tup: tup[1])"
   ]
  },
  {
   "cell_type": "code",
   "execution_count": 33,
   "metadata": {},
   "outputs": [
    {
     "data": {
      "text/plain": [
       "[(0.4956632425864498, 0.5),\n",
       " (2.061013025535324, 2.0),\n",
       " (1.5091695712399686, 1.5),\n",
       " (-1.539666863233462, -1.5),\n",
       " (1.3627420013083156, 1.5)]"
      ]
     },
     "execution_count": 33,
     "metadata": {},
     "output_type": "execute_result"
    }
   ],
   "source": [
    "scoreAndLabels.take(5)"
   ]
  },
  {
   "cell_type": "code",
   "execution_count": 34,
   "metadata": {},
   "outputs": [],
   "source": [
    "metrics = RegressionMetrics(scoreAndLabels)"
   ]
  },
  {
   "cell_type": "code",
   "execution_count": 36,
   "metadata": {},
   "outputs": [
    {
     "name": "stdout",
     "output_type": "stream",
     "text": [
      "R-squared = 0.7673545613264461\n"
     ]
    }
   ],
   "source": [
    "print(\"R-squared = %s\" % metrics.r2)"
   ]
  },
  {
   "cell_type": "markdown",
   "metadata": {},
   "source": [
    "## Finding the right parameters: grid search"
   ]
  },
  {
   "cell_type": "code",
   "execution_count": 37,
   "metadata": {
    "scrolled": true
   },
   "outputs": [
    {
     "name": "stdout",
     "output_type": "stream",
     "text": [
      "Lf: 5, Iter: 5, Reg: 0.005, R-squared: 0.6200459936062662\n",
      "Lf: 5, Iter: 5, Reg: 0.01, R-squared: 0.6233462688749175\n",
      "Lf: 5, Iter: 5, Reg: 0.05, R-squared: 0.6133459066820806\n",
      "Lf: 5, Iter: 10, Reg: 0.005, R-squared: 0.6439499482490904\n",
      "Lf: 5, Iter: 10, Reg: 0.01, R-squared: 0.6452451089835823\n",
      "Lf: 5, Iter: 10, Reg: 0.05, R-squared: 0.6288264978970612\n",
      "Lf: 5, Iter: 15, Reg: 0.005, R-squared: 0.65211029545805\n",
      "Lf: 5, Iter: 15, Reg: 0.01, R-squared: 0.6522791546423828\n",
      "Lf: 5, Iter: 15, Reg: 0.05, R-squared: 0.6338302166332314\n",
      "Lf: 10, Iter: 5, Reg: 0.005, R-squared: 0.7408325301966197\n",
      "Lf: 10, Iter: 5, Reg: 0.01, R-squared: 0.7424807673461694\n",
      "Lf: 10, Iter: 5, Reg: 0.05, R-squared: 0.7179732044478466\n",
      "Lf: 10, Iter: 10, Reg: 0.005, R-squared: 0.7671517703853729\n",
      "Lf: 10, Iter: 10, Reg: 0.01, R-squared: 0.7673545613264461\n"
     ]
    },
    {
     "ename": "KeyboardInterrupt",
     "evalue": "",
     "output_type": "error",
     "traceback": [
      "\u001b[0;31m---------------------------------------------------------------------------\u001b[0m",
      "\u001b[0;31mKeyboardInterrupt\u001b[0m                         Traceback (most recent call last)",
      "\u001b[0;32m<ipython-input-37-1f9cc08b10b0>\u001b[0m in \u001b[0;36m<module>\u001b[0;34m()\u001b[0m\n\u001b[1;32m     21\u001b[0m                   \u001b[0mseed\u001b[0m\u001b[0;34m=\u001b[0m\u001b[0mseed\u001b[0m\u001b[0;34m\u001b[0m\u001b[0m\n\u001b[1;32m     22\u001b[0m                  )\n\u001b[0;32m---> 23\u001b[0;31m     \u001b[0mpred\u001b[0m \u001b[0;34m=\u001b[0m \u001b[0mmodel\u001b[0m\u001b[0;34m.\u001b[0m\u001b[0mpredictAll\u001b[0m\u001b[0;34m(\u001b[0m\u001b[0mtestData\u001b[0m\u001b[0;34m)\u001b[0m\u001b[0;34m.\u001b[0m\u001b[0mmap\u001b[0m\u001b[0;34m(\u001b[0m\u001b[0;32mlambda\u001b[0m \u001b[0mr\u001b[0m\u001b[0;34m:\u001b[0m \u001b[0;34m(\u001b[0m\u001b[0;34m(\u001b[0m\u001b[0mr\u001b[0m\u001b[0;34m.\u001b[0m\u001b[0muser\u001b[0m\u001b[0;34m,\u001b[0m \u001b[0mr\u001b[0m\u001b[0;34m.\u001b[0m\u001b[0mproduct\u001b[0m\u001b[0;34m)\u001b[0m\u001b[0;34m,\u001b[0m \u001b[0mr\u001b[0m\u001b[0;34m.\u001b[0m\u001b[0mrating\u001b[0m\u001b[0;34m)\u001b[0m\u001b[0;34m)\u001b[0m\u001b[0;34m\u001b[0m\u001b[0m\n\u001b[0m\u001b[1;32m     24\u001b[0m     \u001b[0mscoreAndLabels\u001b[0m \u001b[0;34m=\u001b[0m \u001b[0mpred\u001b[0m\u001b[0;34m.\u001b[0m\u001b[0mjoin\u001b[0m\u001b[0;34m(\u001b[0m\u001b[0mratingsTuple\u001b[0m\u001b[0;34m)\u001b[0m\u001b[0;34m.\u001b[0m\u001b[0mmap\u001b[0m\u001b[0;34m(\u001b[0m\u001b[0;32mlambda\u001b[0m \u001b[0mtup\u001b[0m\u001b[0;34m:\u001b[0m \u001b[0mtup\u001b[0m\u001b[0;34m[\u001b[0m\u001b[0;36m1\u001b[0m\u001b[0;34m]\u001b[0m\u001b[0;34m)\u001b[0m\u001b[0;34m\u001b[0m\u001b[0m\n\u001b[1;32m     25\u001b[0m     \u001b[0mmetrics\u001b[0m \u001b[0;34m=\u001b[0m \u001b[0mRegressionMetrics\u001b[0m\u001b[0;34m(\u001b[0m\u001b[0mscoreAndLabels\u001b[0m\u001b[0;34m)\u001b[0m\u001b[0;34m\u001b[0m\u001b[0m\n",
      "\u001b[0;32m/usr/local/Cellar/apache-spark/2.3.2/libexec/python/pyspark/mllib/recommendation.py\u001b[0m in \u001b[0;36mpredictAll\u001b[0;34m(self, user_product)\u001b[0m\n\u001b[1;32m    146\u001b[0m         \u001b[0;32massert\u001b[0m \u001b[0mlen\u001b[0m\u001b[0;34m(\u001b[0m\u001b[0mfirst\u001b[0m\u001b[0;34m)\u001b[0m \u001b[0;34m==\u001b[0m \u001b[0;36m2\u001b[0m\u001b[0;34m,\u001b[0m \u001b[0;34m\"user_product should be RDD of (user, product)\"\u001b[0m\u001b[0;34m\u001b[0m\u001b[0m\n\u001b[1;32m    147\u001b[0m         \u001b[0muser_product\u001b[0m \u001b[0;34m=\u001b[0m \u001b[0muser_product\u001b[0m\u001b[0;34m.\u001b[0m\u001b[0mmap\u001b[0m\u001b[0;34m(\u001b[0m\u001b[0;32mlambda\u001b[0m \u001b[0mu_p\u001b[0m\u001b[0;34m:\u001b[0m \u001b[0;34m(\u001b[0m\u001b[0mint\u001b[0m\u001b[0;34m(\u001b[0m\u001b[0mu_p\u001b[0m\u001b[0;34m[\u001b[0m\u001b[0;36m0\u001b[0m\u001b[0;34m]\u001b[0m\u001b[0;34m)\u001b[0m\u001b[0;34m,\u001b[0m \u001b[0mint\u001b[0m\u001b[0;34m(\u001b[0m\u001b[0mu_p\u001b[0m\u001b[0;34m[\u001b[0m\u001b[0;36m1\u001b[0m\u001b[0;34m]\u001b[0m\u001b[0;34m)\u001b[0m\u001b[0;34m)\u001b[0m\u001b[0;34m)\u001b[0m\u001b[0;34m\u001b[0m\u001b[0m\n\u001b[0;32m--> 148\u001b[0;31m         \u001b[0;32mreturn\u001b[0m \u001b[0mself\u001b[0m\u001b[0;34m.\u001b[0m\u001b[0mcall\u001b[0m\u001b[0;34m(\u001b[0m\u001b[0;34m\"predict\"\u001b[0m\u001b[0;34m,\u001b[0m \u001b[0muser_product\u001b[0m\u001b[0;34m)\u001b[0m\u001b[0;34m\u001b[0m\u001b[0m\n\u001b[0m\u001b[1;32m    149\u001b[0m \u001b[0;34m\u001b[0m\u001b[0m\n\u001b[1;32m    150\u001b[0m     \u001b[0;34m@\u001b[0m\u001b[0msince\u001b[0m\u001b[0;34m(\u001b[0m\u001b[0;34m\"1.2.0\"\u001b[0m\u001b[0;34m)\u001b[0m\u001b[0;34m\u001b[0m\u001b[0m\n",
      "\u001b[0;32m/usr/local/Cellar/apache-spark/2.3.2/libexec/python/pyspark/mllib/common.py\u001b[0m in \u001b[0;36mcall\u001b[0;34m(self, name, *a)\u001b[0m\n\u001b[1;32m    144\u001b[0m     \u001b[0;32mdef\u001b[0m \u001b[0mcall\u001b[0m\u001b[0;34m(\u001b[0m\u001b[0mself\u001b[0m\u001b[0;34m,\u001b[0m \u001b[0mname\u001b[0m\u001b[0;34m,\u001b[0m \u001b[0;34m*\u001b[0m\u001b[0ma\u001b[0m\u001b[0;34m)\u001b[0m\u001b[0;34m:\u001b[0m\u001b[0;34m\u001b[0m\u001b[0m\n\u001b[1;32m    145\u001b[0m         \u001b[0;34m\"\"\"Call method of java_model\"\"\"\u001b[0m\u001b[0;34m\u001b[0m\u001b[0m\n\u001b[0;32m--> 146\u001b[0;31m         \u001b[0;32mreturn\u001b[0m \u001b[0mcallJavaFunc\u001b[0m\u001b[0;34m(\u001b[0m\u001b[0mself\u001b[0m\u001b[0;34m.\u001b[0m\u001b[0m_sc\u001b[0m\u001b[0;34m,\u001b[0m \u001b[0mgetattr\u001b[0m\u001b[0;34m(\u001b[0m\u001b[0mself\u001b[0m\u001b[0;34m.\u001b[0m\u001b[0m_java_model\u001b[0m\u001b[0;34m,\u001b[0m \u001b[0mname\u001b[0m\u001b[0;34m)\u001b[0m\u001b[0;34m,\u001b[0m \u001b[0;34m*\u001b[0m\u001b[0ma\u001b[0m\u001b[0;34m)\u001b[0m\u001b[0;34m\u001b[0m\u001b[0m\n\u001b[0m\u001b[1;32m    147\u001b[0m \u001b[0;34m\u001b[0m\u001b[0m\n\u001b[1;32m    148\u001b[0m \u001b[0;34m\u001b[0m\u001b[0m\n",
      "\u001b[0;32m/usr/local/Cellar/apache-spark/2.3.2/libexec/python/pyspark/mllib/common.py\u001b[0m in \u001b[0;36mcallJavaFunc\u001b[0;34m(sc, func, *args)\u001b[0m\n\u001b[1;32m    121\u001b[0m     \u001b[0;34m\"\"\" Call Java Function \"\"\"\u001b[0m\u001b[0;34m\u001b[0m\u001b[0m\n\u001b[1;32m    122\u001b[0m     \u001b[0margs\u001b[0m \u001b[0;34m=\u001b[0m \u001b[0;34m[\u001b[0m\u001b[0m_py2java\u001b[0m\u001b[0;34m(\u001b[0m\u001b[0msc\u001b[0m\u001b[0;34m,\u001b[0m \u001b[0ma\u001b[0m\u001b[0;34m)\u001b[0m \u001b[0;32mfor\u001b[0m \u001b[0ma\u001b[0m \u001b[0;32min\u001b[0m \u001b[0margs\u001b[0m\u001b[0;34m]\u001b[0m\u001b[0;34m\u001b[0m\u001b[0m\n\u001b[0;32m--> 123\u001b[0;31m     \u001b[0;32mreturn\u001b[0m \u001b[0m_java2py\u001b[0m\u001b[0;34m(\u001b[0m\u001b[0msc\u001b[0m\u001b[0;34m,\u001b[0m \u001b[0mfunc\u001b[0m\u001b[0;34m(\u001b[0m\u001b[0;34m*\u001b[0m\u001b[0margs\u001b[0m\u001b[0;34m)\u001b[0m\u001b[0;34m)\u001b[0m\u001b[0;34m\u001b[0m\u001b[0m\n\u001b[0m\u001b[1;32m    124\u001b[0m \u001b[0;34m\u001b[0m\u001b[0m\n\u001b[1;32m    125\u001b[0m \u001b[0;34m\u001b[0m\u001b[0m\n",
      "\u001b[0;32m/usr/local/Cellar/apache-spark/2.3.2/libexec/python/lib/py4j-0.10.7-src.zip/py4j/java_gateway.py\u001b[0m in \u001b[0;36m__call__\u001b[0;34m(self, *args)\u001b[0m\n\u001b[1;32m   1253\u001b[0m             \u001b[0mproto\u001b[0m\u001b[0;34m.\u001b[0m\u001b[0mEND_COMMAND_PART\u001b[0m\u001b[0;34m\u001b[0m\u001b[0m\n\u001b[1;32m   1254\u001b[0m \u001b[0;34m\u001b[0m\u001b[0m\n\u001b[0;32m-> 1255\u001b[0;31m         \u001b[0manswer\u001b[0m \u001b[0;34m=\u001b[0m \u001b[0mself\u001b[0m\u001b[0;34m.\u001b[0m\u001b[0mgateway_client\u001b[0m\u001b[0;34m.\u001b[0m\u001b[0msend_command\u001b[0m\u001b[0;34m(\u001b[0m\u001b[0mcommand\u001b[0m\u001b[0;34m)\u001b[0m\u001b[0;34m\u001b[0m\u001b[0m\n\u001b[0m\u001b[1;32m   1256\u001b[0m         return_value = get_return_value(\n\u001b[1;32m   1257\u001b[0m             answer, self.gateway_client, self.target_id, self.name)\n",
      "\u001b[0;32m/usr/local/Cellar/apache-spark/2.3.2/libexec/python/lib/py4j-0.10.7-src.zip/py4j/java_gateway.py\u001b[0m in \u001b[0;36msend_command\u001b[0;34m(self, command, retry, binary)\u001b[0m\n\u001b[1;32m    983\u001b[0m         \u001b[0mconnection\u001b[0m \u001b[0;34m=\u001b[0m \u001b[0mself\u001b[0m\u001b[0;34m.\u001b[0m\u001b[0m_get_connection\u001b[0m\u001b[0;34m(\u001b[0m\u001b[0;34m)\u001b[0m\u001b[0;34m\u001b[0m\u001b[0m\n\u001b[1;32m    984\u001b[0m         \u001b[0;32mtry\u001b[0m\u001b[0;34m:\u001b[0m\u001b[0;34m\u001b[0m\u001b[0m\n\u001b[0;32m--> 985\u001b[0;31m             \u001b[0mresponse\u001b[0m \u001b[0;34m=\u001b[0m \u001b[0mconnection\u001b[0m\u001b[0;34m.\u001b[0m\u001b[0msend_command\u001b[0m\u001b[0;34m(\u001b[0m\u001b[0mcommand\u001b[0m\u001b[0;34m)\u001b[0m\u001b[0;34m\u001b[0m\u001b[0m\n\u001b[0m\u001b[1;32m    986\u001b[0m             \u001b[0;32mif\u001b[0m \u001b[0mbinary\u001b[0m\u001b[0;34m:\u001b[0m\u001b[0;34m\u001b[0m\u001b[0m\n\u001b[1;32m    987\u001b[0m                 \u001b[0;32mreturn\u001b[0m \u001b[0mresponse\u001b[0m\u001b[0;34m,\u001b[0m \u001b[0mself\u001b[0m\u001b[0;34m.\u001b[0m\u001b[0m_create_connection_guard\u001b[0m\u001b[0;34m(\u001b[0m\u001b[0mconnection\u001b[0m\u001b[0;34m)\u001b[0m\u001b[0;34m\u001b[0m\u001b[0m\n",
      "\u001b[0;32m/usr/local/Cellar/apache-spark/2.3.2/libexec/python/lib/py4j-0.10.7-src.zip/py4j/java_gateway.py\u001b[0m in \u001b[0;36msend_command\u001b[0;34m(self, command)\u001b[0m\n\u001b[1;32m   1150\u001b[0m \u001b[0;34m\u001b[0m\u001b[0m\n\u001b[1;32m   1151\u001b[0m         \u001b[0;32mtry\u001b[0m\u001b[0;34m:\u001b[0m\u001b[0;34m\u001b[0m\u001b[0m\n\u001b[0;32m-> 1152\u001b[0;31m             \u001b[0manswer\u001b[0m \u001b[0;34m=\u001b[0m \u001b[0msmart_decode\u001b[0m\u001b[0;34m(\u001b[0m\u001b[0mself\u001b[0m\u001b[0;34m.\u001b[0m\u001b[0mstream\u001b[0m\u001b[0;34m.\u001b[0m\u001b[0mreadline\u001b[0m\u001b[0;34m(\u001b[0m\u001b[0;34m)\u001b[0m\u001b[0;34m[\u001b[0m\u001b[0;34m:\u001b[0m\u001b[0;34m-\u001b[0m\u001b[0;36m1\u001b[0m\u001b[0;34m]\u001b[0m\u001b[0;34m)\u001b[0m\u001b[0;34m\u001b[0m\u001b[0m\n\u001b[0m\u001b[1;32m   1153\u001b[0m             \u001b[0mlogger\u001b[0m\u001b[0;34m.\u001b[0m\u001b[0mdebug\u001b[0m\u001b[0;34m(\u001b[0m\u001b[0;34m\"Answer received: {0}\"\u001b[0m\u001b[0;34m.\u001b[0m\u001b[0mformat\u001b[0m\u001b[0;34m(\u001b[0m\u001b[0manswer\u001b[0m\u001b[0;34m)\u001b[0m\u001b[0;34m)\u001b[0m\u001b[0;34m\u001b[0m\u001b[0m\n\u001b[1;32m   1154\u001b[0m             \u001b[0;32mif\u001b[0m \u001b[0manswer\u001b[0m\u001b[0;34m.\u001b[0m\u001b[0mstartswith\u001b[0m\u001b[0;34m(\u001b[0m\u001b[0mproto\u001b[0m\u001b[0;34m.\u001b[0m\u001b[0mRETURN_MESSAGE\u001b[0m\u001b[0;34m)\u001b[0m\u001b[0;34m:\u001b[0m\u001b[0;34m\u001b[0m\u001b[0m\n",
      "\u001b[0;32m~/Virtualenvs/anaconda3/envs/ds2/lib/python3.6/socket.py\u001b[0m in \u001b[0;36mreadinto\u001b[0;34m(self, b)\u001b[0m\n\u001b[1;32m    584\u001b[0m         \u001b[0;32mwhile\u001b[0m \u001b[0;32mTrue\u001b[0m\u001b[0;34m:\u001b[0m\u001b[0;34m\u001b[0m\u001b[0m\n\u001b[1;32m    585\u001b[0m             \u001b[0;32mtry\u001b[0m\u001b[0;34m:\u001b[0m\u001b[0;34m\u001b[0m\u001b[0m\n\u001b[0;32m--> 586\u001b[0;31m                 \u001b[0;32mreturn\u001b[0m \u001b[0mself\u001b[0m\u001b[0;34m.\u001b[0m\u001b[0m_sock\u001b[0m\u001b[0;34m.\u001b[0m\u001b[0mrecv_into\u001b[0m\u001b[0;34m(\u001b[0m\u001b[0mb\u001b[0m\u001b[0;34m)\u001b[0m\u001b[0;34m\u001b[0m\u001b[0m\n\u001b[0m\u001b[1;32m    587\u001b[0m             \u001b[0;32mexcept\u001b[0m \u001b[0mtimeout\u001b[0m\u001b[0;34m:\u001b[0m\u001b[0;34m\u001b[0m\u001b[0m\n\u001b[1;32m    588\u001b[0m                 \u001b[0mself\u001b[0m\u001b[0;34m.\u001b[0m\u001b[0m_timeout_occurred\u001b[0m \u001b[0;34m=\u001b[0m \u001b[0;32mTrue\u001b[0m\u001b[0;34m\u001b[0m\u001b[0m\n",
      "\u001b[0;31mKeyboardInterrupt\u001b[0m: "
     ]
    }
   ],
   "source": [
    "# parameters\n",
    "latent_factors = [5, 10, 20]\n",
    "iterations = [5, 10, 15]\n",
    "regularization = [0.005, 0.01, 0.05]\n",
    "seed = 123\n",
    "\n",
    "r2_best = 0\n",
    "lf_best = 0\n",
    "it_best = 0\n",
    "rg_best = 0\n",
    "\n",
    "\n",
    "testData = rating_prep.map(lambda p: (p.user, p.product))\n",
    "ratingsTuple = rating_prep.map(lambda r: ((r.user, r.product), r.rating))\n",
    "\n",
    "for (lf, it, rg) in itertools.product(latent_factors, iterations, regularization):\n",
    "    model = ALS.train(rating_prep,\n",
    "                  rank=lf,\n",
    "                  iterations=it,\n",
    "                  lambda_=rg,\n",
    "                  seed=seed\n",
    "                 )\n",
    "    pred = model.predictAll(testData).map(lambda r: ((r.user, r.product), r.rating))\n",
    "    scoreAndLabels = pred.join(ratingsTuple).map(lambda tup: tup[1])\n",
    "    metrics = RegressionMetrics(scoreAndLabels)\n",
    "    r2 = metrics.r2\n",
    "    print(\"Lf: {}, Iter: {}, Reg: {}, R-squared: {}\".format(lf, it, rg, metrics.r2))\n",
    "    if r2 > r2_best:\n",
    "        r2_best = r2\n",
    "        lf_best = lf\n",
    "        it_best = it\n",
    "        rg_best = rg\n",
    "        \n",
    "\n",
    "print(\"Best parameters:\\n\\tLatent Factors: {}\\n\\tIterations: {}\\n\\tLearning rate: {}\\n\\tR-squared: {}\".format(lf_best, it_best, rg_best, r2_best))"
   ]
  },
  {
   "cell_type": "code",
   "execution_count": null,
   "metadata": {},
   "outputs": [],
   "source": [
    "# Attempt 2\n",
    "# parameters\n",
    "latent_factors = [5, 10, 20, 30, 40, 50]\n",
    "iterations = 15\n",
    "regularization = 0.005\n",
    "seed = 123\n",
    "\n",
    "r2_best = 0\n",
    "lf_best = 0\n",
    "\n",
    "\n",
    "testData = rating_prep.map(lambda p: (p.user, p.product))\n",
    "ratingsTuple = rating_prep.map(lambda r: ((r.user, r.product), r.rating))\n",
    "\n",
    "for lf in latent_factors:\n",
    "    model = ALS.train(rating_prep,\n",
    "                  rank=lf,\n",
    "                  iterations=iterations,\n",
    "                  lambda_=regularization,\n",
    "                  seed=seed\n",
    "                 )\n",
    "    pred = model.predictAll(testData).map(lambda r: ((r.user, r.product), r.rating))\n",
    "    scoreAndLabels = pred.join(ratingsTuple).map(lambda tup: tup[1])\n",
    "    metrics = RegressionMetrics(scoreAndLabels)\n",
    "    r2 = metrics.r2\n",
    "    print(\"Lf: {}, R-squared: {}\".format(lf, metrics.r2))\n",
    "    if r2 > r2_best:\n",
    "        r2_best = r2\n",
    "        lf_best = lf\n",
    "\n",
    "        \n",
    "\n",
    "print(\"Best parameters:\\n\\tLatent Factors: {}\\n\\tR-squared: {}\".format(lf_best, r2_best))"
   ]
  },
  {
   "cell_type": "markdown",
   "metadata": {},
   "source": [
    "```\n",
    "Lf: 5, R-squared: 0.65211029545805\n",
    "Lf: 15, R-squared: 0.8485914561949865\n",
    "Lf: 25, R-squared: 0.9279978098685675\n",
    "Lf: 35, R-squared: 0.9660291208158869\n",
    "Lf: 45, R-squared: 0.9837918571090516\n",
    "Lf: 55, R-squared: 0.9921787093615754\n",
    "Lf: 65, R-squared: 0.9956939527609688\n",
    "Lf: 75, R-squared: 0.9972704933104122\n",
    "Lf: 85, R-squared: 0.9979933721328282\n",
    "Lf: 95, R-squared: 0.9983273234909336\n",
    "Lf: 105, R-squared: 0.998466898753369\n",
    "Lf: 115, R-squared: 0.9985605515810347\n",
    "Lf: 125, R-squared: 0.9986022859468177\n",
    "Lf: 135, R-squared: 0.9986298243818326\n",
    "Lf: 145, R-squared: 0.9986534482370703\n",
    "Lf: 155, R-squared: 0.9986563419973016\n",
    "Lf: 165, R-squared: 0.9986767559326981\n",
    "Lf: 175, R-squared: 0.9986810022783341\n",
    "Lf: 185, R-squared: 0.9986845863387889\n",
    "Lf: 195, R-squared: 0.9986858401557792\n",
    "Lf: 205, R-squared: 0.998688767962585\n",
    "Lf: 215, R-squared: 0.99869217512235\n",
    "Lf: 225, R-squared: 0.9986855046310568\n",
    "Lf: 235, R-squared: 0.998690069801307\n",
    "Lf: 245, R-squared: 0.9986941010961531\n",
    "Lf: 255, R-squared: 0.9986967885341859\n",
    "Lf: 265, R-squared: 0.9986894037295959\n",
    "Lf: 275, R-squared: 0.9986924854203024\n",
    "Lf: 285, R-squared: 0.9986944272764333\n",
    "Lf: 295, R-squared: 0.9986940218318288\n",
    "Best parameters:\n",
    "\tLatent Factors: 255\n",
    "\tR-squared: 0.9986967885341859\n",
    "```"
   ]
  },
  {
   "cell_type": "code",
   "execution_count": 38,
   "metadata": {},
   "outputs": [
    {
     "data": {
      "image/png": "[encoded data removed]",
      "text/plain": [
       "<Figure size 432x288 with 1 Axes>"
      ]
     },
     "metadata": {},
     "output_type": "display_data"
    }
   ],
   "source": [
    "r2_monitor = {5: 0.65211029545805,\n",
    " 15: 0.8485914561949865,\n",
    " 25: 0.9279978098685675,\n",
    " 35: 0.9660291208158869,\n",
    " 45: 0.9837918571090516,\n",
    " 55: 0.9921787093615754,\n",
    " 65: 0.9956939527609688,\n",
    " 75: 0.9972704933104122,\n",
    " 85: 0.9979933721328282,\n",
    " 95: 0.9983273234909336,\n",
    " 105: 0.998466898753369,\n",
    " 115: 0.9985605515810347,\n",
    " 125: 0.9986022859468177,\n",
    " 135: 0.9986298243818326,\n",
    " 145: 0.9986534482370703,\n",
    " 155: 0.9986563419973016,\n",
    " 165: 0.9986767559326981,\n",
    " 175: 0.9986810022783341,\n",
    " 185: 0.9986845863387889,\n",
    " 195: 0.9986858401557792,\n",
    " 205: 0.998688767962585,\n",
    " 215: 0.99869217512235,\n",
    " 225: 0.9986855046310568,\n",
    " 235: 0.998690069801307,\n",
    " 245: 0.9986941010961531,\n",
    " 255: 0.9986967885341859,\n",
    " 265: 0.9986894037295959,\n",
    " 275: 0.9986924854203024,\n",
    " 285: 0.9986944272764333,\n",
    " 295: 0.9986940218318288}\n",
    "\n",
    "names = list(r2_monitor.keys())\n",
    "values = list(r2_monitor.values())\n",
    "\n",
    "plt.bar(range(len(r2_monitor)),values,tick_label=names)\n",
    "plt.show()"
   ]
  },
  {
   "cell_type": "markdown",
   "metadata": {},
   "source": [
    "## Prediction\n",
    "***"
   ]
  },
  {
   "cell_type": "code",
   "execution_count": 39,
   "metadata": {},
   "outputs": [],
   "source": [
    "# Final model\n",
    "model_final = ALS.train(rating_prep,\n",
    "                  rank=45,\n",
    "                  iterations=15,\n",
    "                  lambda_=0.005,\n",
    "                  seed=seed\n",
    "                 )"
   ]
  },
  {
   "cell_type": "code",
   "execution_count": 40,
   "metadata": {},
   "outputs": [
    {
     "data": {
      "text/plain": [
       "[Rating(user=1, product=3836, rating=4.362124052460197),\n",
       " Rating(user=1, product=1232, rating=4.254754022773406),\n",
       " Rating(user=1, product=2457, rating=4.221554199004412),\n",
       " Rating(user=1, product=1916, rating=4.128490400961274),\n",
       " Rating(user=1, product=5666, rating=4.040240770323422),\n",
       " Rating(user=1, product=2401, rating=3.980743680539773),\n",
       " Rating(user=1, product=2467, rating=3.945048781469756),\n",
       " Rating(user=1, product=1735, rating=3.941685809607887),\n",
       " Rating(user=1, product=2261, rating=3.9227348647783424),\n",
       " Rating(user=1, product=43679, rating=3.9192086106109665)]"
      ]
     },
     "execution_count": 40,
     "metadata": {},
     "output_type": "execute_result"
    }
   ],
   "source": [
    "# Get top N predictions for a user\n",
    "\n",
    "N = 10\n",
    "userId = 1\n",
    "\n",
    "model_1.recommendProducts(userId, N)"
   ]
  },
  {
   "cell_type": "code",
   "execution_count": null,
   "metadata": {},
   "outputs": [],
   "source": [
    "# Generate top 10 movie recommendations for each user\n",
    "userRecs10 = model.recommendForAllUsers(10)\n",
    "# Generate top 10 user recommendations for each movie\n",
    "movieRecs10 = model.recommendForAllItems(10)"
   ]
  },
  {
   "cell_type": "markdown",
   "metadata": {},
   "source": [
    "## References\n",
    "- Data: https://grouplens.org/datasets/movielens/latest/\n",
    "- https://datasciencemadesimpler.wordpress.com/tag/alternating-least-squares/\n",
    "- https://medium.com/radon-dev/als-implicit-collaborative-filtering-5ed653ba39fe\n",
    "- https://spark.apache.org/docs/latest/ml-collaborative-filtering.html\n",
    "- https://jessesw.com/Rec-System/\n",
    "- https://www.blabladata.com/2014/12/20/simple-multimodal-design-recommender/\n",
    "- http://fastml.com/evaluating-recommender-systems/\n",
    "- http://yifanhu.net/PUB/cf.pdf\n",
    "-"
   ]
  }
 ],
 "metadata": {
  "kernelspec": {
   "display_name": "Python 3",
   "language": "python",
   "name": "python3"
  },
  "language_info": {
   "codemirror_mode": {
    "name": "ipython",
    "version": 3
   },
   "file_extension": ".py",
   "mimetype": "text/x-python",
   "name": "python",
   "nbconvert_exporter": "python",
   "pygments_lexer": "ipython3",
   "version": "3.6.6"
  }
 },
 "nbformat": 4,
 "nbformat_minor": 2
}
