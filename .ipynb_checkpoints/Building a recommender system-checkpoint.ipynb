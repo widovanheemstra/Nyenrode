{
 "cells": [
  {
   "cell_type": "markdown",
   "metadata": {
    "slideshow": {
     "slide_type": "slide"
    }
   },
   "source": [
    "# Introduction"
   ]
  },
  {
   "cell_type": "markdown",
   "metadata": {},
   "source": [
    "This notebook will demonstrate how to create a basic recommender system (RS) for books. The RS will take as input a historic set of book ratings from multiple reviewers. For a given book it then suggests what other books might be interesting. We find this in some online shops as well.\n",
    "\n",
    "The notebook is build up as follows:\n",
    "1. A little background on Recommender Systems\n",
    "2. Data inspection and data preparation\n",
    "3. Building the Recommender System and final exercises\n",
    "\n",
    "This notebook is by no means complete. The purpose is to give a quick hands-on experience with building a data product."
   ]
  },
  {
   "cell_type": "markdown",
   "metadata": {
    "slideshow": {
     "slide_type": "slide"
    }
   },
   "source": [
    "## 1. Recommender System types"
   ]
  },
  {
   "cell_type": "markdown",
   "metadata": {},
   "source": [
    "The essence of a RS is to select items an user is most likely interested in. RS exist in many different forms but we can group them into three sets:\n",
    "\n",
    "- Collaborative filtering\n",
    "- Content based filtering\n",
    "- Hybrid forms"
   ]
  },
  {
   "cell_type": "markdown",
   "metadata": {
    "slideshow": {
     "slide_type": "subslide"
    }
   },
   "source": [
    "### Collaborative Filtering"
   ]
  },
  {
   "cell_type": "markdown",
   "metadata": {},
   "source": [
    "Collaborative Filtering RS uses the 'wisdom of the crowd' principle and are found in two flavors: User Based and Item Based. The input of Collaborative Filtering RS is a user-item matrix with ratings of users for several items. Both RS recommend items by finding similarities between users or items respectively based on the ratings. The assumption is that if you like an item then you probably will like similar items too, or you will like what other people like who share a similar item preference.\n",
    "\n",
    "The key here is similarity.\n",
    "\n",
    "**Item-based** RS are easier to use because the similarities can be calculated in adcance but are of lower quality than User based models. They are mostly found in online systems shops.\n",
    "\n",
    "**User-based** RS are more accurate but do not scale well as the complexity and required computation power increases when more users are used as reference."
   ]
  },
  {
   "cell_type": "markdown",
   "metadata": {
    "slideshow": {
     "slide_type": "subslide"
    }
   },
   "source": [
    "### Content based filtering"
   ]
  },
  {
   "cell_type": "markdown",
   "metadata": {},
   "source": [
    "Content based models focus on user profiles and item descriptions, for its recommendations. These models typically try to recommend items that are similar to what a user has liked in the past."
   ]
  },
  {
   "cell_type": "markdown",
   "metadata": {
    "slideshow": {
     "slide_type": "subslide"
    }
   },
   "source": [
    "### Hybrid"
   ]
  },
  {
   "cell_type": "markdown",
   "metadata": {},
   "source": [
    "Combinations of Collaborative Filtering and Content based filtering can be used to use the best of both worlds and to improve the quality of the RS. It seems that these types of RS are most effective of the three."
   ]
  },
  {
   "cell_type": "markdown",
   "metadata": {
    "slideshow": {
     "slide_type": "slide"
    }
   },
   "source": [
    "## 2. Inspect data and prepare the data"
   ]
  },
  {
   "cell_type": "markdown",
   "metadata": {},
   "source": [
    "We are going the create a book recommender and for that we need user ratings. We will use a dataset from [Book-Crossing](http://www2.informatik.uni-freiburg.de/~cziegler/BX/) but this one is already transformed into usable user-book-rating records. So the hard work has been done. ;-)\n",
    "\n",
    "We also have to think about how we will evaluate the performance of our RS in the end and therefore how to prepare the data."
   ]
  },
  {
   "cell_type": "markdown",
   "metadata": {},
   "source": [
    "As a start we import some python libraries that we require for our prototype."
   ]
  },
  {
   "cell_type": "code",
   "execution_count": 1,
   "metadata": {
    "collapsed": true
   },
   "outputs": [],
   "source": [
    "# Import some important libraries\n",
    "import pandas as pd\n",
    "import numpy as np\n",
    "#import json\n",
    "%matplotlib inline"
   ]
  },
  {
   "cell_type": "markdown",
   "metadata": {
    "slideshow": {
     "slide_type": "subslide"
    }
   },
   "source": [
    "Lets read-in the data and show the 5 rows to see how the data looks like."
   ]
  },
  {
   "cell_type": "code",
   "execution_count": 2,
   "metadata": {
    "collapsed": false
   },
   "outputs": [
    {
     "data": {
      "text/html": [
       "<div>\n",
       "<table border=\"1\" class=\"dataframe\">\n",
       "  <thead>\n",
       "    <tr style=\"text-align: right;\">\n",
       "      <th></th>\n",
       "      <th>Reviewer</th>\n",
       "      <th>Book</th>\n",
       "      <th>Rating</th>\n",
       "    </tr>\n",
       "  </thead>\n",
       "  <tbody>\n",
       "    <tr>\n",
       "      <th>0</th>\n",
       "      <td>276726</td>\n",
       "      <td>Rites of Passage</td>\n",
       "      <td>5</td>\n",
       "    </tr>\n",
       "    <tr>\n",
       "      <th>1</th>\n",
       "      <td>276729</td>\n",
       "      <td>Help!: Level 1</td>\n",
       "      <td>3</td>\n",
       "    </tr>\n",
       "    <tr>\n",
       "      <th>2</th>\n",
       "      <td>276729</td>\n",
       "      <td>The Amsterdam Connection : Level 4 (Cambridge ...</td>\n",
       "      <td>6</td>\n",
       "    </tr>\n",
       "    <tr>\n",
       "      <th>3</th>\n",
       "      <td>276744</td>\n",
       "      <td>A Painted House</td>\n",
       "      <td>7</td>\n",
       "    </tr>\n",
       "    <tr>\n",
       "      <th>4</th>\n",
       "      <td>276747</td>\n",
       "      <td>Little Altars Everywhere</td>\n",
       "      <td>9</td>\n",
       "    </tr>\n",
       "  </tbody>\n",
       "</table>\n",
       "</div>"
      ],
      "text/plain": [
       "   Reviewer                                               Book  Rating\n",
       "0    276726                                   Rites of Passage       5\n",
       "1    276729                                     Help!: Level 1       3\n",
       "2    276729  The Amsterdam Connection : Level 4 (Cambridge ...       6\n",
       "3    276744                                    A Painted House       7\n",
       "4    276747                           Little Altars Everywhere       9"
      ]
     },
     "execution_count": 2,
     "metadata": {},
     "output_type": "execute_result"
    }
   ],
   "source": [
    "data = pd.read_csv(\"data_books.csv\", sep = \",\", header=None,\n",
    "                         names=['Reviewer', 'Book', 'Rating'])\n",
    "\n",
    "# Let's see how the dataframe looks like\n",
    "data.head()"
   ]
  },
  {
   "cell_type": "markdown",
   "metadata": {
    "slideshow": {
     "slide_type": "subslide"
    }
   },
   "source": [
    "Lets get some figures about the data:\n",
    "- What is the size of the data?\n",
    "- How many unique books and unique reviewers?\n",
    "- How sparse is the user-item matrix?"
   ]
  },
  {
   "cell_type": "code",
   "execution_count": 3,
   "metadata": {
    "collapsed": false
   },
   "outputs": [
    {
     "name": "stdout",
     "output_type": "stream",
     "text": [
      "There are 383852 rows in this dataframe and 3 features.\n"
     ]
    }
   ],
   "source": [
    "# Get the dimensions of the dataframe\n",
    "dim = data.shape\n",
    "print (\"There are {:d} rows in this dataframe and {:d} features.\".format(dim[0], dim[1]))"
   ]
  },
  {
   "cell_type": "code",
   "execution_count": 4,
   "metadata": {
    "collapsed": false
   },
   "outputs": [
    {
     "name": "stdout",
     "output_type": "stream",
     "text": [
      "135394 unique books.\n"
     ]
    }
   ],
   "source": [
    "unique_books = pd.unique(data[['Book']].values.ravel()).size\n",
    "print (\"{:d} unique books.\".format(unique_books))"
   ]
  },
  {
   "cell_type": "code",
   "execution_count": 5,
   "metadata": {
    "collapsed": false
   },
   "outputs": [
    {
     "name": "stdout",
     "output_type": "stream",
     "text": [
      "68092 unique reviewers.\n"
     ]
    }
   ],
   "source": [
    "unique_reviewers = pd.unique(data[['Reviewer']].values.ravel()).size\n",
    "print (\"{:d} unique reviewers.\".format(unique_reviewers))"
   ]
  },
  {
   "cell_type": "markdown",
   "metadata": {
    "slideshow": {
     "slide_type": "subslide"
    }
   },
   "source": [
    "To see how sparse the matrix is, we calculate the fraction of non-zero cells in the matrix."
   ]
  },
  {
   "cell_type": "code",
   "execution_count": 6,
   "metadata": {
    "collapsed": false
   },
   "outputs": [
    {
     "name": "stdout",
     "output_type": "stream",
     "text": [
      "0.0042%\n"
     ]
    }
   ],
   "source": [
    "# Total matrix would be\n",
    "total_cells = unique_reviewers * unique_books\n",
    "\n",
    "# How sparse is the matrix now\n",
    "perc = dim[0] / float(total_cells) * 100.\n",
    "print ('{:.4f}%'.format(perc))"
   ]
  },
  {
   "cell_type": "markdown",
   "metadata": {},
   "source": [
    " **Exercise**: How can we evaluate the performance of a top-N recommender system? And how should we handle the data?"
   ]
  },
  {
   "cell_type": "markdown",
   "metadata": {},
   "source": [
    "> Answer ..."
   ]
  },
  {
   "cell_type": "markdown",
   "metadata": {
    "slideshow": {
     "slide_type": "subslide"
    }
   },
   "source": [
    "Determine the amount of reviews per book and show the top 20."
   ]
  },
  {
   "cell_type": "code",
   "execution_count": 8,
   "metadata": {
    "collapsed": true
   },
   "outputs": [],
   "source": [
    "train = pd.read_csv(\"train_books.csv\", sep = \",\")\n",
    "test = pd.read_csv(\"test_books.csv\", sep = \",\")"
   ]
  },
  {
   "cell_type": "code",
   "execution_count": 9,
   "metadata": {
    "collapsed": false
   },
   "outputs": [
    {
     "data": {
      "text/plain": [
       "The Lovely Bones: A Novel                                           410\n",
       "The Da Vinci Code                                                   316\n",
       "Wild Animus                                                         315\n",
       "Bridget Jones's Diary                                               272\n",
       "The Nanny Diaries: A Novel                                          262\n",
       "The Secret Life of Bees                                             253\n",
       "Harry Potter and the Chamber of Secrets (Book 2)                    250\n",
       "Angels &amp                                                         238\n",
       "A Painted House                                                     233\n",
       "Harry Potter and the Sorcerer's Stone (Harry Potter (Paperback))    231\n",
       "Harry Potter and the Prisoner of Azkaban (Book 3)                   229\n",
       "Life of Pi                                                          225\n",
       "The Red Tent (Bestselling Backlist)                                 222\n",
       "Harry Potter and the Goblet of Fire (Book 4)                        213\n",
       "Divine Secrets of the Ya-Ya Sisterhood: A Novel                     201\n",
       "The Notebook                                                        199\n",
       "The Testament                                                       195\n",
       "The Summons                                                         194\n",
       "Where the Heart Is (Oprah's Book Club (Paperback))                  193\n",
       "The Five People You Meet in Heaven                                  186\n",
       "Name: Book, dtype: int64"
      ]
     },
     "execution_count": 9,
     "metadata": {},
     "output_type": "execute_result"
    }
   ],
   "source": [
    "# Top 20 most reviewed books \n",
    "top_books = pd.value_counts(train.Book)\n",
    "top_books.head(20)"
   ]
  },
  {
   "cell_type": "markdown",
   "metadata": {
    "slideshow": {
     "slide_type": "subslide"
    }
   },
   "source": [
    "Lets show a graph of the top 1000 most reviewed books."
   ]
  },
  {
   "cell_type": "code",
   "execution_count": 10,
   "metadata": {
    "collapsed": false
   },
   "outputs": [
    {
     "data": {
      "text/plain": [
       "<matplotlib.axes._subplots.AxesSubplot at 0x152850b8>"
      ]
     },
     "execution_count": 10,
     "metadata": {},
     "output_type": "execute_result"
    },
    {
     "data": {
      "image/png": "[encoded data removed]",
      "text/plain": [
       "<matplotlib.figure.Figure at 0xd4f8780>"
      ]
     },
     "metadata": {},
     "output_type": "display_data"
    }
   ],
   "source": [
    "top_books['row'] = range(1, len(top_books) + 1)\n",
    "top_books[:1000].plot(x=top_books.row)"
   ]
  },
  {
   "cell_type": "markdown",
   "metadata": {
    "slideshow": {
     "slide_type": "subslide"
    }
   },
   "source": [
    "Now determine how many reviews each user has given."
   ]
  },
  {
   "cell_type": "code",
   "execution_count": 11,
   "metadata": {
    "collapsed": false
   },
   "outputs": [
    {
     "data": {
      "text/plain": [
       "11676     6942\n",
       "98391     5690\n",
       "189835    1898\n",
       "153662    1844\n",
       "23902     1179\n",
       "235105    1019\n",
       "76499     1011\n",
       "171118     961\n",
       "16795      958\n",
       "248718     940\n",
       "56399      837\n",
       "197659     780\n",
       "35859      776\n",
       "185233     697\n",
       "95359      605\n",
       "114368     602\n",
       "158295     566\n",
       "101851     562\n",
       "177458     523\n",
       "204864     503\n",
       "Name: Reviewer, dtype: int64"
      ]
     },
     "execution_count": 11,
     "metadata": {},
     "output_type": "execute_result"
    }
   ],
   "source": [
    "# Top Reviewers\n",
    "top_reviewers = pd.value_counts(train.Reviewer)\n",
    "top_reviewers.head(20)"
   ]
  },
  {
   "cell_type": "markdown",
   "metadata": {
    "slideshow": {
     "slide_type": "fragment"
    }
   },
   "source": [
    "**Question**: Do we see something interesting?"
   ]
  },
  {
   "cell_type": "markdown",
   "metadata": {},
   "source": [
    "## 3. Building the Recommender System"
   ]
  },
  {
   "cell_type": "markdown",
   "metadata": {
    "slideshow": {
     "slide_type": "slide"
    }
   },
   "source": [
    "### Calculate Similarities"
   ]
  },
  {
   "cell_type": "markdown",
   "metadata": {},
   "source": [
    "The **Manhattan-distance** which is the sum of the absolute differences of two vectors.\n",
    "$$d_{u,v} = \\sum_{i=1}^{n} \\left | v_{i} - u_{i} \\right |$$\n",
    "\n",
    "The **Euclidean-distance** which is the most intuitive one and calculated by pythagoras theorem.\n",
    "$$d_{u,v} = \\sqrt {\\sum_{i=1}^{n} (v_{i} - u_{i})^2}$$\n",
    "\n",
    "The **Pearson-correlation** which is a more complex one. It looks at how two variables changes together relatively to their individuals changes. Values range from -1 to 1.\n",
    "$$\\rho_{v,u} = \\frac{\\sum_{i=1}^{n} (v_{i} - \\overline{v})( u_{i} - \\overline{u})}{\\sqrt{\\sum_{i=1}^{n} (v_{i} - \\overline{v})^{2} \\sum_{i=1}^{n}( u_{i} - \\overline{u})^2}}$$\n",
    "\n",
    "The **Cosine-similarity** which measures the distance by calculating the angle from the origin. Values range from -1 to 1.\n",
    "$$\\cos (\\theta) = \\frac{v \\cdot w }{\\left \\| v \\right \\|*\\left \\| w \\right \\|} = \\frac{\\sum_{i=1}^{n} v_{i} u_{i}}{\\sqrt{\\sum_{i=1}^{n} v_{i}^{2}} \\sqrt{\\sum_{i=1}^{n} u_{i}^{2}}}$$\n",
    "\n",
    "\n",
    "For item based RS the cosine-similarity tends to be the best performing method. For user based RS the Pearson-correlation method works best. We will build both."
   ]
  },
  {
   "cell_type": "markdown",
   "metadata": {
    "slideshow": {
     "slide_type": "subslide"
    }
   },
   "source": [
    "First we start simple by building an item based RS, using Pearson-correlation.\n",
    "\n",
    "**Approach**:\n",
    "- Choose two books\n",
    "- Determine their shared reviewers\n",
    "- Get for each book a list of all reviews of their shared reviewers.\n",
    "- Calculate the Pearson-correlation over these reviews"
   ]
  },
  {
   "cell_type": "code",
   "execution_count": 12,
   "metadata": {
    "collapsed": true,
    "slideshow": {
     "slide_type": "subslide"
    }
   },
   "outputs": [],
   "source": [
    "# 2 books \n",
    "book_1, book_2 = \"Harry Potter and the Chamber of Secrets (Book 2)\", \"Harry Potter and the Sorcerer's Stone (Harry Potter (Paperback))\""
   ]
  },
  {
   "cell_type": "markdown",
   "metadata": {},
   "source": [
    "Determine the shared reviewers."
   ]
  },
  {
   "cell_type": "code",
   "execution_count": 13,
   "metadata": {
    "collapsed": false
   },
   "outputs": [
    {
     "name": "stdout",
     "output_type": "stream",
     "text": [
      "78 people have reviewed these 2 books\n"
     ]
    }
   ],
   "source": [
    "# Getting all the reviewers for these books\n",
    "book_1_reviewers = train[train.Book == book_1].Reviewer\n",
    "book_2_reviewers = train[train.Book == book_2].Reviewer\n",
    "\n",
    "# Determine any common reviewers\n",
    "common_reviewers = set(book_1_reviewers).intersection(book_2_reviewers)\n",
    "\n",
    "print \"%d people have reviewed these 2 books\" % len(common_reviewers)"
   ]
  },
  {
   "cell_type": "markdown",
   "metadata": {},
   "source": [
    "Get all ratings from the shared reviewers per book."
   ]
  },
  {
   "cell_type": "code",
   "execution_count": 14,
   "metadata": {
    "collapsed": false
   },
   "outputs": [],
   "source": [
    "# Checking the table with only the common reviewers and get the book name and rating\n",
    "com_rev_book1 = train[(train.Reviewer.isin(common_reviewers)) & (train.Book == book_1)]\n",
    "com_rev_book2 = train[(train.Reviewer.isin(common_reviewers)) & (train.Book == book_2)]"
   ]
  },
  {
   "cell_type": "code",
   "execution_count": 15,
   "metadata": {
    "collapsed": false
   },
   "outputs": [
    {
     "data": {
      "text/html": [
       "<div>\n",
       "<table border=\"1\" class=\"dataframe\">\n",
       "  <thead>\n",
       "    <tr style=\"text-align: right;\">\n",
       "      <th></th>\n",
       "      <th>Reviewer</th>\n",
       "      <th>Book</th>\n",
       "      <th>Rating</th>\n",
       "    </tr>\n",
       "  </thead>\n",
       "  <tbody>\n",
       "    <tr>\n",
       "      <th>9448</th>\n",
       "      <td>10560</td>\n",
       "      <td>Harry Potter and the Chamber of Secrets (Book 2)</td>\n",
       "      <td>10</td>\n",
       "    </tr>\n",
       "    <tr>\n",
       "      <th>10633</th>\n",
       "      <td>11676</td>\n",
       "      <td>Harry Potter and the Chamber of Secrets (Book 2)</td>\n",
       "      <td>10</td>\n",
       "    </tr>\n",
       "    <tr>\n",
       "      <th>10702</th>\n",
       "      <td>11676</td>\n",
       "      <td>Harry Potter and the Chamber of Secrets (Book 2)</td>\n",
       "      <td>10</td>\n",
       "    </tr>\n",
       "    <tr>\n",
       "      <th>13763</th>\n",
       "      <td>11676</td>\n",
       "      <td>Harry Potter and the Chamber of Secrets (Book 2)</td>\n",
       "      <td>8</td>\n",
       "    </tr>\n",
       "    <tr>\n",
       "      <th>27668</th>\n",
       "      <td>22625</td>\n",
       "      <td>Harry Potter and the Chamber of Secrets (Book 2)</td>\n",
       "      <td>10</td>\n",
       "    </tr>\n",
       "    <tr>\n",
       "      <th>32768</th>\n",
       "      <td>26190</td>\n",
       "      <td>Harry Potter and the Chamber of Secrets (Book 2)</td>\n",
       "      <td>9</td>\n",
       "    </tr>\n",
       "    <tr>\n",
       "      <th>38375</th>\n",
       "      <td>30735</td>\n",
       "      <td>Harry Potter and the Chamber of Secrets (Book 2)</td>\n",
       "      <td>9</td>\n",
       "    </tr>\n",
       "    <tr>\n",
       "      <th>38381</th>\n",
       "      <td>30735</td>\n",
       "      <td>Harry Potter and the Chamber of Secrets (Book 2)</td>\n",
       "      <td>9</td>\n",
       "    </tr>\n",
       "    <tr>\n",
       "      <th>57981</th>\n",
       "      <td>48899</td>\n",
       "      <td>Harry Potter and the Chamber of Secrets (Book 2)</td>\n",
       "      <td>8</td>\n",
       "    </tr>\n",
       "    <tr>\n",
       "      <th>60374</th>\n",
       "      <td>51647</td>\n",
       "      <td>Harry Potter and the Chamber of Secrets (Book 2)</td>\n",
       "      <td>8</td>\n",
       "    </tr>\n",
       "  </tbody>\n",
       "</table>\n",
       "</div>"
      ],
      "text/plain": [
       "       Reviewer                                              Book  Rating\n",
       "9448      10560  Harry Potter and the Chamber of Secrets (Book 2)      10\n",
       "10633     11676  Harry Potter and the Chamber of Secrets (Book 2)      10\n",
       "10702     11676  Harry Potter and the Chamber of Secrets (Book 2)      10\n",
       "13763     11676  Harry Potter and the Chamber of Secrets (Book 2)       8\n",
       "27668     22625  Harry Potter and the Chamber of Secrets (Book 2)      10\n",
       "32768     26190  Harry Potter and the Chamber of Secrets (Book 2)       9\n",
       "38375     30735  Harry Potter and the Chamber of Secrets (Book 2)       9\n",
       "38381     30735  Harry Potter and the Chamber of Secrets (Book 2)       9\n",
       "57981     48899  Harry Potter and the Chamber of Secrets (Book 2)       8\n",
       "60374     51647  Harry Potter and the Chamber of Secrets (Book 2)       8"
      ]
     },
     "execution_count": 15,
     "metadata": {},
     "output_type": "execute_result"
    }
   ],
   "source": [
    "com_rev_book1.head(10)"
   ]
  },
  {
   "cell_type": "code",
   "execution_count": 16,
   "metadata": {
    "collapsed": false
   },
   "outputs": [
    {
     "data": {
      "text/html": [
       "<div>\n",
       "<table border=\"1\" class=\"dataframe\">\n",
       "  <thead>\n",
       "    <tr style=\"text-align: right;\">\n",
       "      <th></th>\n",
       "      <th>Reviewer</th>\n",
       "      <th>Book</th>\n",
       "      <th>Rating</th>\n",
       "    </tr>\n",
       "  </thead>\n",
       "  <tbody>\n",
       "    <tr>\n",
       "      <th>9435</th>\n",
       "      <td>10560</td>\n",
       "      <td>Harry Potter and the Sorcerer's Stone (Harry P...</td>\n",
       "      <td>10</td>\n",
       "    </tr>\n",
       "    <tr>\n",
       "      <th>10485</th>\n",
       "      <td>11676</td>\n",
       "      <td>Harry Potter and the Sorcerer's Stone (Harry P...</td>\n",
       "      <td>10</td>\n",
       "    </tr>\n",
       "    <tr>\n",
       "      <th>27660</th>\n",
       "      <td>22625</td>\n",
       "      <td>Harry Potter and the Sorcerer's Stone (Harry P...</td>\n",
       "      <td>10</td>\n",
       "    </tr>\n",
       "    <tr>\n",
       "      <th>32769</th>\n",
       "      <td>26190</td>\n",
       "      <td>Harry Potter and the Sorcerer's Stone (Harry P...</td>\n",
       "      <td>9</td>\n",
       "    </tr>\n",
       "    <tr>\n",
       "      <th>38296</th>\n",
       "      <td>30735</td>\n",
       "      <td>Harry Potter and the Sorcerer's Stone (Harry P...</td>\n",
       "      <td>10</td>\n",
       "    </tr>\n",
       "    <tr>\n",
       "      <th>57982</th>\n",
       "      <td>48899</td>\n",
       "      <td>Harry Potter and the Sorcerer's Stone (Harry P...</td>\n",
       "      <td>8</td>\n",
       "    </tr>\n",
       "    <tr>\n",
       "      <th>60373</th>\n",
       "      <td>51647</td>\n",
       "      <td>Harry Potter and the Sorcerer's Stone (Harry P...</td>\n",
       "      <td>10</td>\n",
       "    </tr>\n",
       "    <tr>\n",
       "      <th>64897</th>\n",
       "      <td>55492</td>\n",
       "      <td>Harry Potter and the Sorcerer's Stone (Harry P...</td>\n",
       "      <td>10</td>\n",
       "    </tr>\n",
       "    <tr>\n",
       "      <th>67000</th>\n",
       "      <td>56447</td>\n",
       "      <td>Harry Potter and the Sorcerer's Stone (Harry P...</td>\n",
       "      <td>7</td>\n",
       "    </tr>\n",
       "    <tr>\n",
       "      <th>68212</th>\n",
       "      <td>57398</td>\n",
       "      <td>Harry Potter and the Sorcerer's Stone (Harry P...</td>\n",
       "      <td>10</td>\n",
       "    </tr>\n",
       "  </tbody>\n",
       "</table>\n",
       "</div>"
      ],
      "text/plain": [
       "       Reviewer                                               Book  Rating\n",
       "9435      10560  Harry Potter and the Sorcerer's Stone (Harry P...      10\n",
       "10485     11676  Harry Potter and the Sorcerer's Stone (Harry P...      10\n",
       "27660     22625  Harry Potter and the Sorcerer's Stone (Harry P...      10\n",
       "32769     26190  Harry Potter and the Sorcerer's Stone (Harry P...       9\n",
       "38296     30735  Harry Potter and the Sorcerer's Stone (Harry P...      10\n",
       "57982     48899  Harry Potter and the Sorcerer's Stone (Harry P...       8\n",
       "60373     51647  Harry Potter and the Sorcerer's Stone (Harry P...      10\n",
       "64897     55492  Harry Potter and the Sorcerer's Stone (Harry P...      10\n",
       "67000     56447  Harry Potter and the Sorcerer's Stone (Harry P...       7\n",
       "68212     57398  Harry Potter and the Sorcerer's Stone (Harry P...      10"
      ]
     },
     "execution_count": 16,
     "metadata": {},
     "output_type": "execute_result"
    }
   ],
   "source": [
    "com_rev_book2.head(10)"
   ]
  },
  {
   "cell_type": "markdown",
   "metadata": {},
   "source": [
    "We see duplicate reviewers. That must be fixed to calculate the Pearson-correlation as we need two vectors of the same size."
   ]
  },
  {
   "cell_type": "code",
   "execution_count": 17,
   "metadata": {
    "collapsed": true
   },
   "outputs": [],
   "source": [
    "# Fix the duplicates to prevent errors when calculating Pearson-correlation.\n",
    "com_rev_book1.sort_values('Reviewer')\n",
    "com_rev_book1 = com_rev_book1[com_rev_book1.Reviewer.duplicated()==False]\n",
    "\n",
    "com_rev_book1.sort_values('Reviewer')\n",
    "com_rev_book1 = com_rev_book1[com_rev_book1.Reviewer.duplicated()==False]"
   ]
  },
  {
   "cell_type": "code",
   "execution_count": 18,
   "metadata": {
    "collapsed": false
   },
   "outputs": [],
   "source": [
    "import numpy as np"
   ]
  },
  {
   "cell_type": "code",
   "execution_count": 19,
   "metadata": {
    "collapsed": false
   },
   "outputs": [
    {
     "data": {
      "text/plain": [
       "0.85749191081587495"
      ]
     },
     "execution_count": 19,
     "metadata": {},
     "output_type": "execute_result"
    }
   ],
   "source": [
    "# The Pearson-correlation from the Numpy package\n",
    "np.corrcoef(com_rev_book1.Rating, com_rev_book2.Rating)[1,0]"
   ]
  },
  {
   "cell_type": "markdown",
   "metadata": {},
   "source": [
    "Now we have two books that look quit correlated."
   ]
  },
  {
   "cell_type": "markdown",
   "metadata": {},
   "source": [
    "In order to apply this calculation to a bigger set of books we need to define two functions that will help us.\n",
    "\n",
    "1. A function that helps us to retrieve the reviews for a given book while sharing reviewers with another book\n",
    "2. A function that helps us calculating the Pearson-correlation for two sets of reviews"
   ]
  },
  {
   "cell_type": "code",
   "execution_count": 20,
   "metadata": {
    "collapsed": true
   },
   "outputs": [],
   "source": [
    "# Let's create a function that collect the reviews of our common reviewers for a specified book\n",
    "def get_book_reviews(title, common_reviewers):\n",
    "    mask = (train.Reviewer.isin(common_reviewers)) & (train.Book==title)\n",
    "    reviews = train[mask].sort_values('Reviewer')\n",
    "    reviews = reviews[reviews.Reviewer.duplicated()==False]\n",
    "    return reviews"
   ]
  },
  {
   "cell_type": "code",
   "execution_count": 21,
   "metadata": {
    "collapsed": false
   },
   "outputs": [
    {
     "data": {
      "text/plain": [
       "0.85749191081587495"
      ]
     },
     "execution_count": 21,
     "metadata": {},
     "output_type": "execute_result"
    }
   ],
   "source": [
    "def calculate_pearson_correlation(book1, book2):\n",
    "    # We start by finding the common reviewers\n",
    "    book_1_reviewers = train[train.Book == book1].Reviewer\n",
    "    book_2_reviewers = train[train.Book == book2].Reviewer\n",
    "    common_reviewers = set(book_1_reviewers).intersection(book_2_reviewers)\n",
    "\n",
    "    # Then we look for the reviews given by common reviewers\n",
    "    book_1_reviews = get_book_reviews(book1, common_reviewers)\n",
    "    book_2_reviews = get_book_reviews(book2, common_reviewers)\n",
    "    \n",
    "    # Calculate the Pearson Correlation Score\n",
    "    return np.corrcoef(book_1_reviews.Rating, book_2_reviews.Rating)[1,0]\n",
    "\n",
    "# Print the correlation score\n",
    "calculate_pearson_correlation(book_1,book_2)"
   ]
  },
  {
   "cell_type": "markdown",
   "metadata": {},
   "source": [
    "**Exercise**: build a similar function that calculates the cosine-similarity between two books."
   ]
  },
  {
   "cell_type": "markdown",
   "metadata": {},
   "source": [
    "> Answer ..."
   ]
  },
  {
   "cell_type": "markdown",
   "metadata": {},
   "source": [
    "## Let's expand the idea to a larger set of books"
   ]
  },
  {
   "cell_type": "markdown",
   "metadata": {},
   "source": [
    "For performance reasons we will select the top most reviewed books as the calculation of similarity between all book pairs will take too much time. This is the reason why these calculations are executed seperately from the online scoring mechanism."
   ]
  },
  {
   "cell_type": "code",
   "execution_count": 22,
   "metadata": {
    "collapsed": false
   },
   "outputs": [
    {
     "data": {
      "text/html": [
       "<div>\n",
       "<table border=\"1\" class=\"dataframe\">\n",
       "  <thead>\n",
       "    <tr style=\"text-align: right;\">\n",
       "      <th></th>\n",
       "      <th>Book</th>\n",
       "      <th>count</th>\n",
       "    </tr>\n",
       "  </thead>\n",
       "  <tbody>\n",
       "    <tr>\n",
       "      <th>98216</th>\n",
       "      <td>The Lovely Bones: A Novel</td>\n",
       "      <td>410</td>\n",
       "    </tr>\n",
       "    <tr>\n",
       "      <th>91377</th>\n",
       "      <td>The Da Vinci Code</td>\n",
       "      <td>316</td>\n",
       "    </tr>\n",
       "    <tr>\n",
       "      <th>118009</th>\n",
       "      <td>Wild Animus</td>\n",
       "      <td>315</td>\n",
       "    </tr>\n",
       "    <tr>\n",
       "      <th>14122</th>\n",
       "      <td>Bridget Jones's Diary</td>\n",
       "      <td>272</td>\n",
       "    </tr>\n",
       "    <tr>\n",
       "      <th>99750</th>\n",
       "      <td>The Nanny Diaries: A Novel</td>\n",
       "      <td>262</td>\n",
       "    </tr>\n",
       "    <tr>\n",
       "      <th>103633</th>\n",
       "      <td>The Secret Life of Bees</td>\n",
       "      <td>253</td>\n",
       "    </tr>\n",
       "    <tr>\n",
       "      <th>40289</th>\n",
       "      <td>Harry Potter and the Chamber of Secrets (Book 2)</td>\n",
       "      <td>250</td>\n",
       "    </tr>\n",
       "    <tr>\n",
       "      <th>7262</th>\n",
       "      <td>Angels &amp;amp</td>\n",
       "      <td>238</td>\n",
       "    </tr>\n",
       "    <tr>\n",
       "      <th>2749</th>\n",
       "      <td>A Painted House</td>\n",
       "      <td>233</td>\n",
       "    </tr>\n",
       "    <tr>\n",
       "      <th>40317</th>\n",
       "      <td>Harry Potter and the Sorcerer's Stone (Harry P...</td>\n",
       "      <td>231</td>\n",
       "    </tr>\n",
       "    <tr>\n",
       "      <th>40308</th>\n",
       "      <td>Harry Potter and the Prisoner of Azkaban (Book 3)</td>\n",
       "      <td>229</td>\n",
       "    </tr>\n",
       "    <tr>\n",
       "      <th>53793</th>\n",
       "      <td>Life of Pi</td>\n",
       "      <td>225</td>\n",
       "    </tr>\n",
       "    <tr>\n",
       "      <th>102498</th>\n",
       "      <td>The Red Tent (Bestselling Backlist)</td>\n",
       "      <td>222</td>\n",
       "    </tr>\n",
       "    <tr>\n",
       "      <th>40296</th>\n",
       "      <td>Harry Potter and the Goblet of Fire (Book 4)</td>\n",
       "      <td>213</td>\n",
       "    </tr>\n",
       "    <tr>\n",
       "      <th>26597</th>\n",
       "      <td>Divine Secrets of the Ya-Ya Sisterhood: A Novel</td>\n",
       "      <td>201</td>\n",
       "    </tr>\n",
       "    <tr>\n",
       "      <th>100307</th>\n",
       "      <td>The Notebook</td>\n",
       "      <td>199</td>\n",
       "    </tr>\n",
       "    <tr>\n",
       "      <th>105545</th>\n",
       "      <td>The Testament</td>\n",
       "      <td>195</td>\n",
       "    </tr>\n",
       "    <tr>\n",
       "      <th>105128</th>\n",
       "      <td>The Summons</td>\n",
       "      <td>194</td>\n",
       "    </tr>\n",
       "    <tr>\n",
       "      <th>117208</th>\n",
       "      <td>Where the Heart Is (Oprah's Book Club (Paperba...</td>\n",
       "      <td>193</td>\n",
       "    </tr>\n",
       "    <tr>\n",
       "      <th>37541</th>\n",
       "      <td>Girl with a Pearl Earring</td>\n",
       "      <td>186</td>\n",
       "    </tr>\n",
       "  </tbody>\n",
       "</table>\n",
       "</div>"
      ],
      "text/plain": [
       "                                                     Book  count\n",
       "98216                           The Lovely Bones: A Novel    410\n",
       "91377                                   The Da Vinci Code    316\n",
       "118009                                        Wild Animus    315\n",
       "14122                               Bridget Jones's Diary    272\n",
       "99750                          The Nanny Diaries: A Novel    262\n",
       "103633                            The Secret Life of Bees    253\n",
       "40289    Harry Potter and the Chamber of Secrets (Book 2)    250\n",
       "7262                                          Angels &amp    238\n",
       "2749                                      A Painted House    233\n",
       "40317   Harry Potter and the Sorcerer's Stone (Harry P...    231\n",
       "40308   Harry Potter and the Prisoner of Azkaban (Book 3)    229\n",
       "53793                                          Life of Pi    225\n",
       "102498                The Red Tent (Bestselling Backlist)    222\n",
       "40296        Harry Potter and the Goblet of Fire (Book 4)    213\n",
       "26597     Divine Secrets of the Ya-Ya Sisterhood: A Novel    201\n",
       "100307                                       The Notebook    199\n",
       "105545                                      The Testament    195\n",
       "105128                                        The Summons    194\n",
       "117208  Where the Heart Is (Oprah's Book Club (Paperba...    193\n",
       "37541                           Girl with a Pearl Earring    186"
      ]
     },
     "execution_count": 22,
     "metadata": {},
     "output_type": "execute_result"
    }
   ],
   "source": [
    "# As I want to avoid dealing with a huge sparse matrix, I will only select the top most reviewed books for our example \n",
    "\n",
    "most_reviewed_books = pd.DataFrame({'count' : train.groupby([\"Book\"]).size()})\\\n",
    "                                    .reset_index().sort_values(['count'],ascending = False)\n",
    "\n",
    "most_reviewed_books.head(20)"
   ]
  },
  {
   "cell_type": "code",
   "execution_count": 23,
   "metadata": {
    "collapsed": false
   },
   "outputs": [
    {
     "name": "stdout",
     "output_type": "stream",
     "text": [
      "Calculating the correlations for: The Lovely Bones: A Novel\n",
      "Calculating the correlations for: The Da Vinci Code\n",
      "Calculating the correlations for: Wild Animus\n",
      "Calculating the correlations for: Bridget Jones's Diary\n",
      "Calculating the correlations for: The Nanny Diaries: A Novel\n",
      "Calculating the correlations for: The Secret Life of Bees\n",
      "Calculating the correlations for: Harry Potter and the Chamber of Secrets (Book 2)\n",
      "Calculating the correlations for: Angels &amp\n",
      "Calculating the correlations for: A Painted House\n",
      "Calculating the correlations for: Harry Potter and the Sorcerer's Stone (Harry Potter (Paperback))\n",
      "Calculating the correlations for: Harry Potter and the Prisoner of Azkaban (Book 3)\n",
      "Calculating the correlations for: Life of Pi\n",
      "Calculating the correlations for: The Red Tent (Bestselling Backlist)\n",
      "Calculating the correlations for: Harry Potter and the Goblet of Fire (Book 4)\n",
      "Calculating the correlations for: Divine Secrets of the Ya-Ya Sisterhood: A Novel\n",
      "Calculating the correlations for: The Notebook\n",
      "Calculating the correlations for: The Testament\n",
      "Calculating the correlations for: The Summons\n",
      "Calculating the correlations for: Where the Heart Is (Oprah's Book Club (Paperback))\n",
      "Calculating the correlations for: Girl with a Pearl Earring\n"
     ]
    }
   ],
   "source": [
    "# Getting the list of the most reviewed books\n",
    "\n",
    "top_books = []\n",
    "\n",
    "for i in most_reviewed_books.Book[0:20]:\n",
    "    top_books.append(i)\n",
    "\n",
    "    \n",
    "# calculate the correlation for our top books\n",
    "correlation_coefficient = []\n",
    "\n",
    "for book1 in top_books:\n",
    "    print \"Calculating the correlations for:\", book1\n",
    "    for book2 in top_books:\n",
    "        if book1 != book2:\n",
    "            row = [book1, book2] + [calculate_pearson_correlation(book1, book2)]\n",
    "            correlation_coefficient.append(row)"
   ]
  },
  {
   "cell_type": "code",
   "execution_count": 24,
   "metadata": {
    "collapsed": false
   },
   "outputs": [],
   "source": [
    "# Let's take a look at what the table of correlation looks like\n",
    "cols = [\"Book_1\", \"Book_2\", \"Correlation\"]\n",
    "correlation_coefficient = pd.DataFrame(correlation_coefficient, columns=cols).sort_values('Correlation')\n",
    "#correlation_coefficient.head(10)"
   ]
  },
  {
   "cell_type": "code",
   "execution_count": 25,
   "metadata": {
    "collapsed": true
   },
   "outputs": [],
   "source": [
    "# Let's clean up some of the titles\n",
    "correlation_coefficient= correlation_coefficient.replace([\"Where the Heart Is (Oprah's Book Club (Paperback))\", \"Harry Potter and the Goblet of Fire (Book 4)\",\"The Red Tent (Bestselling Backlist)\", \"Harry Potter and the Chamber of Secrets (Book 2)\",\n",
    "                                 \"Angels &amp\", \"Harry Potter and the Sorcerer's Stone (Harry Potter (Paperback))\", \"Harry Potter and the Prisoner of Azkaban (Book 3)\"],\n",
    "                                [\"Where the Heart Is (Oprah's Book Club)\", \"Harry Potter and the Goblet of Fire\", \"The Red Tent\", \"Harry Potter and the Chamber of Secrets\", \"Angels & Demons\",\n",
    "                                 \"Harry Potter and the Sorcerer's Stone\", \"Harry Potter and the Prisoner of Azkaban\"])"
   ]
  },
  {
   "cell_type": "code",
   "execution_count": 26,
   "metadata": {
    "collapsed": false
   },
   "outputs": [],
   "source": [
    "# Also update the top book list\n",
    "top_books[6] = \"Harry Potter and the Chamber of Secrets\"\n",
    "top_books[7] = \"Angels & Demons\"\n",
    "top_books[9] = \"Harry Potter and the Sorcerer's Stone\"\n",
    "top_books[10] = \"Harry Potter and the Prisoner of Azkaban\"\n",
    "top_books[12] = \"The Red Tent\"\n",
    "top_books[13] = \"Harry Potter and the Goblet of Fire\"\n",
    "top_books[18] = \"Where the Heart Is (Oprah's Book Club)\""
   ]
  },
  {
   "cell_type": "code",
   "execution_count": 27,
   "metadata": {
    "collapsed": true
   },
   "outputs": [],
   "source": [
    "# Helper function to get the correlation between two books\n",
    "def calc_correlation(corr, book1, book2):\n",
    "    mask = (corr.Book_1==book1) & (corr.Book_2==book2)\n",
    "    row = corr[mask]\n",
    "    corr = row\n",
    "    return corr.sum(axis=1).tolist()[0]"
   ]
  },
  {
   "cell_type": "code",
   "execution_count": 29,
   "metadata": {
    "collapsed": false
   },
   "outputs": [
    {
     "data": {
      "text/plain": [
       "0.85749191081587495"
      ]
     },
     "execution_count": 29,
     "metadata": {},
     "output_type": "execute_result"
    }
   ],
   "source": [
    "calc_correlation(correlation_coefficient, \"Harry Potter and the Sorcerer's Stone\", \"\")"
   ]
  },
  {
   "cell_type": "markdown",
   "metadata": {},
   "source": [
    "### Check: Find similar books to \"Harry Potter and the Sorcerer's Stone\""
   ]
  },
  {
   "cell_type": "code",
   "execution_count": 30,
   "metadata": {
    "collapsed": false,
    "scrolled": false
   },
   "outputs": [
    {
     "data": {
      "text/plain": [
       "[('Harry Potter and the Chamber of Secrets', 0.85749191081587495),\n",
       " ('The Nanny Diaries: A Novel', 0.6809065496481953),\n",
       " ('Harry Potter and the Goblet of Fire', 0.64584013033021803),\n",
       " ('Wild Animus', 0.48412291827592707),\n",
       " ('Angels & Demons', 0.45363235436327737),\n",
       " ('The Red Tent', 0.42449996757292047),\n",
       " ('The Notebook', 0.33942211665106531),\n",
       " ('Harry Potter and the Prisoner of Azkaban', 0.33516977212551008),\n",
       " (\"Where the Heart Is (Oprah's Book Club)\", 0.32444284226152509),\n",
       " ('The Summons', 0.28178798147053874),\n",
       " ('A Painted House', 0.26363525200414828),\n",
       " ('Divine Secrets of the Ya-Ya Sisterhood: A Novel', 0.22538123989521244),\n",
       " ('The Lovely Bones: A Novel', 0.18557232038403579),\n",
       " ('The Secret Life of Bees', 0.1348399724926484),\n",
       " ('Girl with a Pearl Earring', 0.10660035817780522),\n",
       " (\"Bridget Jones's Diary\", 0.026519482723970689),\n",
       " ('The Testament', -0.075377836144440907),\n",
       " ('The Da Vinci Code', -0.10387310073624213),\n",
       " ('Life of Pi', -0.27386127875258304)]"
      ]
     },
     "execution_count": 30,
     "metadata": {},
     "output_type": "execute_result"
    }
   ],
   "source": [
    "# Get the sorted correlations for Harry Potter\n",
    "my_book = \"Harry Potter and the Sorcerer's Stone\"\n",
    "\n",
    "results = []\n",
    "for b in top_books:\n",
    "    if my_book!=b:\n",
    "        results.append((b, calc_correlation(correlation_coefficient, my_book, b)))\n",
    "sorted(results, key=lambda x: x[1], reverse=True)"
   ]
  },
  {
   "cell_type": "markdown",
   "metadata": {},
   "source": [
    "**Exercise**: create a function *predict* which takes a book as input and outputs a list with other books, sorted from most correlated to lowest."
   ]
  },
  {
   "cell_type": "markdown",
   "metadata": {},
   "source": [
    "> Answer ..."
   ]
  },
  {
   "cell_type": "markdown",
   "metadata": {},
   "source": [
    "Now we can test for any given book, what suggestions we should consider."
   ]
  },
  {
   "cell_type": "code",
   "execution_count": 32,
   "metadata": {
    "collapsed": false
   },
   "outputs": [
    {
     "data": {
      "text/html": [
       "<div>\n",
       "<table border=\"1\" class=\"dataframe\">\n",
       "  <thead>\n",
       "    <tr style=\"text-align: right;\">\n",
       "      <th></th>\n",
       "      <th>0</th>\n",
       "      <th>1</th>\n",
       "      <th>2</th>\n",
       "    </tr>\n",
       "  </thead>\n",
       "  <tbody>\n",
       "    <tr>\n",
       "      <th>0</th>\n",
       "      <td>Harry Potter and the Sorcerer's Stone</td>\n",
       "      <td>Harry Potter and the Chamber of Secrets</td>\n",
       "      <td>0.857492</td>\n",
       "    </tr>\n",
       "    <tr>\n",
       "      <th>1</th>\n",
       "      <td>Harry Potter and the Sorcerer's Stone</td>\n",
       "      <td>The Nanny Diaries: A Novel</td>\n",
       "      <td>0.680907</td>\n",
       "    </tr>\n",
       "    <tr>\n",
       "      <th>2</th>\n",
       "      <td>Harry Potter and the Sorcerer's Stone</td>\n",
       "      <td>Harry Potter and the Goblet of Fire</td>\n",
       "      <td>0.645840</td>\n",
       "    </tr>\n",
       "    <tr>\n",
       "      <th>3</th>\n",
       "      <td>Harry Potter and the Sorcerer's Stone</td>\n",
       "      <td>Wild Animus</td>\n",
       "      <td>0.484123</td>\n",
       "    </tr>\n",
       "    <tr>\n",
       "      <th>4</th>\n",
       "      <td>Harry Potter and the Sorcerer's Stone</td>\n",
       "      <td>Angels &amp; Demons</td>\n",
       "      <td>0.453632</td>\n",
       "    </tr>\n",
       "  </tbody>\n",
       "</table>\n",
       "</div>"
      ],
      "text/plain": [
       "                                       0  \\\n",
       "0  Harry Potter and the Sorcerer's Stone   \n",
       "1  Harry Potter and the Sorcerer's Stone   \n",
       "2  Harry Potter and the Sorcerer's Stone   \n",
       "3  Harry Potter and the Sorcerer's Stone   \n",
       "4  Harry Potter and the Sorcerer's Stone   \n",
       "\n",
       "                                         1         2  \n",
       "0  Harry Potter and the Chamber of Secrets  0.857492  \n",
       "1               The Nanny Diaries: A Novel  0.680907  \n",
       "2      Harry Potter and the Goblet of Fire  0.645840  \n",
       "3                              Wild Animus  0.484123  \n",
       "4                          Angels & Demons  0.453632  "
      ]
     },
     "execution_count": 32,
     "metadata": {},
     "output_type": "execute_result"
    }
   ],
   "source": [
    "predict(\"Harry Potter and the Sorcerer's Stone\")"
   ]
  },
  {
   "cell_type": "markdown",
   "metadata": {},
   "source": [
    "**Question 1**: What is needed to apply the cosine-similarity function we build before, for this recommender?\n",
    "\n",
    "**Question 2**: How could we improve the Item-based recommender system?"
   ]
  },
  {
   "cell_type": "markdown",
   "metadata": {},
   "source": [
    "**Discussion**: How would you apply this in your company or job?"
   ]
  },
  {
   "cell_type": "markdown",
   "metadata": {
    "collapsed": true
   },
   "source": [
    "## References"
   ]
  },
  {
   "cell_type": "markdown",
   "metadata": {},
   "source": [
    "- Part of the code is from: http://www.mickaellegal.com/blog/2014/1/30/how-to-build-a-recommender\n",
    "- CF technique backgrounds are explained at http://www.hindawi.com/journals/aai/2009/421425/\n",
    "- Item-Based Top-N Recommendation Algorithms (Deshpande and Karypis)\n"
   ]
  }
 ],
 "metadata": {
  "kernelspec": {
   "display_name": "Python 2",
   "language": "python",
   "name": "python2"
  },
  "language_info": {
   "codemirror_mode": {
    "name": "ipython",
    "version": 2
   },
   "file_extension": ".py",
   "mimetype": "text/x-python",
   "name": "python",
   "nbconvert_exporter": "python",
   "pygments_lexer": "ipython2",
   "version": "2.7.10"
  }
 },
 "nbformat": 4,
 "nbformat_minor": 0
}
